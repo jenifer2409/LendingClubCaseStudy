{
 "cells": [
  {
   "cell_type": "markdown",
   "id": "5d6934e0",
   "metadata": {},
   "source": [
    "# Lending Club Case Study"
   ]
  },
  {
   "cell_type": "markdown",
   "id": "7305f0d8",
   "metadata": {},
   "source": [
    "## Group Members\n",
    "1. Chethana manyam - chethana.manyam@sap.com\n",
    "2. Jenifer Sam - jenifer.sam@sap.com\n",
    "3. Pallavi Nigam - pallavi.nigam@sap.com"
   ]
  },
  {
   "cell_type": "markdown",
   "id": "002f0213",
   "metadata": {},
   "source": [
    "## Description\n",
    "Lending Club is a marketplace for personal loans that matches borrowers who are seeking a loan with investors looking to lend money and make a return.\n",
    "\n",
    "When the company receives a loan application, the company has to make a decision for loan approval based on the applicant’s profile. Two types of risks are associated with the bank’s decision:\n",
    "- If the applicant is likely to repay the loan, then not approving the loan results in a loss of business to the company\n",
    "- If the applicant is not likely to repay the loan, i.e. he/she is likely to default, then approving the loan may lead to a financial loss for the company"
   ]
  },
  {
   "cell_type": "markdown",
   "id": "71b8188f",
   "metadata": {},
   "source": [
    "## Business Objective\n",
    "\n",
    "The dataset we have been given contains the information about past loan applicants and whether they ‘defaulted’ or not. The aim is to identify patterns which indicate if a person is likely to default, which may be used for taking actions such as denying the loan, reducing the amount of loan, lending (to risky applicants) at a higher interest rate, etc.\n",
    "\n",
    "In this case study, we will use Exploratory Data Analysis to understand how consumer attributes and loan attributes influence the tendency of default."
   ]
  },
  {
   "cell_type": "markdown",
   "id": "3b8c1fdc",
   "metadata": {},
   "source": [
    "## Technical Objective\n",
    "To use Exploratory Data Analysis (EDA) to understand how consumer attributes and loan attributes influence the tendency of default. \n",
    "From the insights identified, we will provide recommendations on what attributes can be considered to reduce loans that result in credit loss."
   ]
  },
  {
   "cell_type": "markdown",
   "id": "8bc661e6",
   "metadata": {},
   "source": [
    "## Steps Followed in our EDA\n",
    "1. Data Sourcing\n",
    "2. Data Cleanup\n",
    "3. Data Understanding\n",
    "4. Univariate Analysis\n",
    "5. Bivariate Analysis (Includes analysis using Derived Metrics)\n",
    "6. Multivariate Analysis "
   ]
  },
  {
   "cell_type": "markdown",
   "id": "f3d67ed0",
   "metadata": {},
   "source": [
    "## 1. Data Sourcing\n",
    "Load the given dataset"
   ]
  },
  {
   "cell_type": "code",
   "execution_count": null,
   "id": "3dc7b1b5",
   "metadata": {},
   "outputs": [],
   "source": [
    "# Import header files\n",
    "import numpy as np\n",
    "import pandas as pd\n",
    "import missingno as msno\n",
    "import matplotlib.pyplot as plt\n",
    "import seaborn as sns\n",
    "import plotly\n",
    "import plotly.graph_objects as go\n",
    "from plotly.subplots import make_subplots"
   ]
  },
  {
   "cell_type": "code",
   "execution_count": null,
   "id": "bb895993",
   "metadata": {},
   "outputs": [],
   "source": [
    "# Load data\n",
    "loan = pd.read_csv(\"loan.csv\", low_memory=False)"
   ]
  },
  {
   "cell_type": "markdown",
   "id": "33eae03e",
   "metadata": {},
   "source": [
    "##### 'loan' is the master dataset."
   ]
  },
  {
   "cell_type": "code",
   "execution_count": null,
   "id": "3945ef44",
   "metadata": {},
   "outputs": [],
   "source": [
    "#Get an overview of the structure of the data\n",
    "loan.head()"
   ]
  },
  {
   "cell_type": "code",
   "execution_count": null,
   "id": "51547c27",
   "metadata": {},
   "outputs": [],
   "source": [
    "#Print number of rows in the dataset\n",
    "print(len(loan))"
   ]
  },
  {
   "cell_type": "code",
   "execution_count": null,
   "id": "eb3dcd6e",
   "metadata": {},
   "outputs": [],
   "source": [
    "#Identify structure of dataset\n",
    "loan.info()"
   ]
  },
  {
   "cell_type": "markdown",
   "id": "76e86855",
   "metadata": {},
   "source": [
    "We have 39717 rows and 111 columns of data in the original dataset"
   ]
  },
  {
   "cell_type": "markdown",
   "id": "73cfebaa",
   "metadata": {},
   "source": [
    "## 2. Data Cleanup: Column-wise"
   ]
  },
  {
   "cell_type": "markdown",
   "id": "2728bdae",
   "metadata": {},
   "source": [
    "### A. Removing customer variables\n",
    "Customer variables are those variables that are generated after a loan is approved. These metrics will not be used to determine the outcome of this case study. Therefore, these columns can be dropped.\n",
    "\n",
    "- application_type\n",
    "- collection_recovery_fee\n",
    "- delinq_2yrs\n",
    "- earliest_cr_line\n",
    "- inq_last_6mths\n",
    "- last_credit_pull_d\n",
    "- last_pymnt_amnt\n",
    "- last_pymnt_d\n",
    "- open_acc\n",
    "- out_prncp\n",
    "- out_prncp_inv\n",
    "- pub_rec\n",
    "- recoveries\n",
    "- revol_bal\n",
    "- revol_util\n",
    "- total_acc\n",
    "- total_pymnt\n",
    "- total_pymnt_inv\n",
    "- total_rec_int\n",
    "- total_rec_late_fee\n",
    "- total_rec_prncp\n",
    "- url"
   ]
  },
  {
   "cell_type": "code",
   "execution_count": null,
   "id": "f4812f06",
   "metadata": {},
   "outputs": [],
   "source": [
    "cust_var_col = ['application_type',\n",
    "                'collection_recovery_fee',\n",
    "                'delinq_2yrs',\n",
    "                'earliest_cr_line',\n",
    "                'inq_last_6mths',\n",
    "                'last_credit_pull_d',\n",
    "                'last_pymnt_amnt',\n",
    "                'last_pymnt_d',\n",
    "                'open_acc',\n",
    "                'out_prncp',\n",
    "                'out_prncp_inv',\n",
    "                'pub_rec',\n",
    "                'recoveries',\n",
    "                'revol_bal',\n",
    "                'revol_util',\n",
    "                'total_acc',\n",
    "                'total_pymnt',\n",
    "                'total_pymnt_inv',\n",
    "                'total_rec_int',\n",
    "                'total_rec_late_fee',\n",
    "                'total_rec_prncp',\n",
    "                'url']\n",
    "loan = loan.drop(cust_var_col, axis=1)"
   ]
  },
  {
   "cell_type": "code",
   "execution_count": null,
   "id": "91b5bd86",
   "metadata": {},
   "outputs": [],
   "source": [
    "loan.shape"
   ]
  },
  {
   "cell_type": "markdown",
   "id": "895069ad",
   "metadata": {},
   "source": [
    "### B. Removing columns where all values are null"
   ]
  },
  {
   "cell_type": "code",
   "execution_count": null,
   "id": "79a39a4f",
   "metadata": {},
   "outputs": [],
   "source": [
    "loan = loan.dropna(axis=1, how='all')\n",
    "loan.shape"
   ]
  },
  {
   "cell_type": "markdown",
   "id": "b336b38c",
   "metadata": {},
   "source": [
    "### C. Using missingno library, identify columns with more tha 50% missing values"
   ]
  },
  {
   "cell_type": "code",
   "execution_count": null,
   "id": "4250780f",
   "metadata": {},
   "outputs": [],
   "source": [
    "msno.bar(loan)"
   ]
  },
  {
   "cell_type": "markdown",
   "id": "a96281e7",
   "metadata": {},
   "source": [
    "Our aim is to remove those columns with more than 50% missing values. From the above chart, it is clear that the following columns have more than 50% missing values and therefore, can be removed. \n",
    "- mths_since_last_delinq\n",
    "- mths_since_last_record\n",
    "- next_pymnt_d"
   ]
  },
  {
   "cell_type": "code",
   "execution_count": null,
   "id": "8b06ce44",
   "metadata": {},
   "outputs": [],
   "source": [
    "col_to_drop = ['mths_since_last_delinq',\n",
    "               'mths_since_last_record',\n",
    "               'next_pymnt_d']\n",
    "loan = loan.drop(col_to_drop, axis = 1)\n",
    "loan.shape"
   ]
  },
  {
   "cell_type": "markdown",
   "id": "b87af1fe",
   "metadata": {},
   "source": [
    "### D. Remove columns with just one value - These won't impact the analysis"
   ]
  },
  {
   "cell_type": "markdown",
   "id": "923d88ce",
   "metadata": {},
   "source": [
    "By skimming through the dataset, it looks like some columns have just one value or a combination of NA and 0s. Such columns will not affect our analysis. Let's remove them after a proper analysis of number of unique values in each column."
   ]
  },
  {
   "cell_type": "code",
   "execution_count": null,
   "id": "6c0932f4",
   "metadata": {},
   "outputs": [],
   "source": [
    "loan.nunique()"
   ]
  },
  {
   "cell_type": "markdown",
   "id": "ed4de1cf",
   "metadata": {},
   "source": [
    "Here, we can directly drop columns that have just one value as these metrics will not affect the analysis"
   ]
  },
  {
   "cell_type": "code",
   "execution_count": null,
   "id": "c457a077",
   "metadata": {},
   "outputs": [],
   "source": [
    "col_to_drop = ['pymnt_plan',\n",
    "               'initial_list_status',\n",
    "               'collections_12_mths_ex_med',\n",
    "               'policy_code',\n",
    "               'acc_now_delinq',\n",
    "               'chargeoff_within_12_mths',\n",
    "               'delinq_amnt',\n",
    "               'tax_liens'\n",
    "              ]\n",
    "loan = loan.drop(col_to_drop, axis = 1)\n",
    "loan.shape"
   ]
  },
  {
   "cell_type": "markdown",
   "id": "ad08b79d",
   "metadata": {},
   "source": [
    "### E. Remove free text columns"
   ]
  },
  {
   "cell_type": "markdown",
   "id": "cd810308",
   "metadata": {},
   "source": [
    "Free text columns cannot be used for analysis since they would lack a pattern required for analysis. So drop them."
   ]
  },
  {
   "cell_type": "code",
   "execution_count": null,
   "id": "5900d820",
   "metadata": {},
   "outputs": [],
   "source": [
    "col_to_be_dropped = ['desc','title']\n",
    "loan = loan.drop(col_to_be_dropped, axis = 1)\n",
    "loan.shape"
   ]
  },
  {
   "cell_type": "markdown",
   "id": "f210351f",
   "metadata": {},
   "source": [
    "### F. Remove columns with all unique values\n",
    "\n",
    "There are 39717 rows. If every value in a particular column is unique, it does not add any perspective to our analysis. Therefore, such columns can be dropped."
   ]
  },
  {
   "cell_type": "code",
   "execution_count": null,
   "id": "4d11829d",
   "metadata": {},
   "outputs": [],
   "source": [
    "#Refer to loan.nunique() in section D for identifying those columns\n",
    "col_to_be_dropped = ['id','member_id']\n",
    "loan = loan.drop(col_to_be_dropped, axis = 1)\n",
    "loan.shape"
   ]
  },
  {
   "cell_type": "markdown",
   "id": "4d169fae",
   "metadata": {},
   "source": [
    "## 3. Data Understanding"
   ]
  },
  {
   "cell_type": "markdown",
   "id": "2b0a389d",
   "metadata": {},
   "source": [
    "With the columns that we have left for analysis, let us understand what each column represents"
   ]
  },
  {
   "cell_type": "markdown",
   "id": "7b83d358",
   "metadata": {},
   "source": [
    "1. loan_amnt:   \n",
    "- Amount which has been requested by the borrower from Lending Club as per past records \n",
    "- This is a continuous integer value\n",
    "\n",
    "2. funded_amnt:\n",
    "- Funded amount is the amount which was approved by Lending Club with respect to the loan applied\n",
    "- This is a continuous integer value \n",
    "- Funded amount should be less than or equal to loan amount\n",
    "\n",
    "3. funded_amnt_inv\n",
    "- Amount funded by the investor for the requested loan amount\n",
    "- It is a continuous float value\n",
    "- Funded amount invested should be less than or equal to funded amount\n",
    "\n",
    "4. term\n",
    "- Duration in which loan will be repayed\n",
    "- This can also be seen as installments in which loan is repayed\n",
    "- In the lending club case study, terms takes two values: 36 Months (short term), 60 Months(long term)\n",
    "\n",
    "5. int_rate\n",
    "- Interest rate on the loan (having value in percentage)\n",
    "- Borrowerer will have to pay actual loan + interest on top of the loan in order to pay off complete loan \n",
    "- Some of the factors which could influence interest rate could be economic strength, inflation, government policy, supply and demand, credit risk, and loan period\n",
    "- This is a continuous float value\n",
    "\n",
    "6. installment\n",
    "- Fixed amount of money that must be repaid with regularly scheduled payments by borrowers\n",
    "- It is a continuous float value\n",
    "\n",
    "7. grade\n",
    "- Lending Club assigned loan grade\n",
    "- Loan grades are set based on both the borrower's credit profile and the nature of the contract\n",
    "- 'A' grade loans represent the lowest risk while 'G' grade loans represent high risk\n",
    "- In the current case study, grade takes values: A,B,C,D,E,F,G\n",
    "\n",
    "8. sub_grade\n",
    "- Lending Club assigned loan subgrade\n",
    "- With in each loan garde also subgarde assigned to get better risk factors attached with the loans\n",
    "- For example with in grade A we have [A1, A2, A3, A4, A5] to better categorize the loan\n",
    "\n",
    "9. emp_title\n",
    "- The job title supplied by the borrower when applying for the loan. It also represent the organization the borrower works for\n",
    "- Free text field, can take any value in string domain\n",
    "\n",
    "10. emp_length\n",
    "- Employment length in years - employment tenure of the borrower\n",
    "- Possible values are between 0 and 10 where 0 means less than one year and 10 means ten or more years\n",
    "\n",
    "11. home_ownership\n",
    "- The home ownership status provided by the borrower during registration\n",
    "- Our values are: RENT, OWN, MORTGAGE, OTHER\n",
    "\n",
    "12. annual_inc\n",
    "- Annual income provided by the borrower during registration \n",
    "- Can take any value in float domain\n",
    "\n",
    "13. verification_status\n",
    "- Indicates that for the loan if borrowers income was verified by lending club\n",
    "- It can take below three values with corresponding detals:\n",
    "    - Verified - Income claimed by borrower is verfied by lending club\n",
    "    - Source Verified - Income Source is verified\n",
    "    - Not verified - Neither income, nor income source is verified\n",
    "\n",
    "14. issue_d  \n",
    "- The month and year in which the loan was funded\n",
    "- The month of issue can be derived for analysis\n",
    "\n",
    "15. loan_status\n",
    "- Indicates current payoff status for loan \n",
    "- Can take below there values \n",
    "    - Fully Paid - Loan is fully paid by borowwer \n",
    "    - Current - Loan is being paid off currently\n",
    "    - Charged off - Borrower could not pay the loan\n",
    "\n",
    "16. purpose\n",
    "- Indicates the purpose for which laon was applied\n",
    "- Some of the categories are debt consolidation, credit card, small business, housing, vacation etc.\n",
    "\n",
    "17. zip_code\n",
    "- The first 3 numbers out of the 5 digits of the zip code provided by the borrower in the loan application.\n",
    "\n",
    "18. addr_state\n",
    "- The state provided by the borrower in the loan application\n",
    "\n",
    "19. dti\n",
    "- A ratio calculated using the borrower’s total monthly debt payments on the total debt obligations, excluding mortgage and the requested LC loan, divided by the borrower’s self-reported monthly income\n",
    "- Higher dti corresponds to high risk loans.\n",
    "\n",
    "20. pub_rec_bankruptcies\n",
    "- Number of public record of previous bankruptcies\n"
   ]
  },
  {
   "cell_type": "markdown",
   "id": "de5f551e",
   "metadata": {},
   "source": [
    "### A. Detect Missing Values - Propose imputation or cleanup"
   ]
  },
  {
   "cell_type": "markdown",
   "id": "e21196ec",
   "metadata": {},
   "source": [
    "Let's take a look at the columns that still have null values and check their proportions. "
   ]
  },
  {
   "cell_type": "code",
   "execution_count": null,
   "id": "267fa044",
   "metadata": {},
   "outputs": [],
   "source": [
    "loan.shape"
   ]
  },
  {
   "cell_type": "code",
   "execution_count": null,
   "id": "dcc5b74e",
   "metadata": {},
   "outputs": [],
   "source": [
    "# Identify columns with small percentage of missing data to determine imputation methods.\n",
    "(loan.isnull().sum()/len(loan))*100"
   ]
  },
  {
   "cell_type": "markdown",
   "id": "3b8bf87d",
   "metadata": {},
   "source": [
    "We see a very small percentage of missing data for emp_title, emp_length and pub_rec_bankruptcies. Therefore, the imputation method determined for these rows is to drop these rows."
   ]
  },
  {
   "cell_type": "code",
   "execution_count": null,
   "id": "27664986",
   "metadata": {},
   "outputs": [],
   "source": [
    "loan = loan.dropna()\n",
    "loan.shape"
   ]
  },
  {
   "cell_type": "markdown",
   "id": "ff058c71",
   "metadata": {},
   "source": [
    "### B. Loan Status: Filter Out Values Needed For Analysis"
   ]
  },
  {
   "cell_type": "code",
   "execution_count": null,
   "id": "bc539a3a",
   "metadata": {},
   "outputs": [],
   "source": [
    "loan.loan_status.unique()"
   ]
  },
  {
   "cell_type": "markdown",
   "id": "dbf39aea",
   "metadata": {},
   "source": [
    "Loan Status takes three values:\n",
    "- Charged off - Borrowers who have defaulted and have not been able to fully pay. \n",
    "- Fully Paid - Borrowers who have completed their loan payment.\n",
    "- Current - Borrowers who are currently replaying their loan amounts.\n",
    "\n",
    "The goal of our analysis is to identify the kind of potential borrowers who will default and therefore, will have to be charged off - Investors must not invest in them. In addition, this will also help understand borrowers who will pay off fully.  \n",
    "\n",
    "Therefore, for our analysis, borrowers who are currently paying off their loans (loan_status = Current) are not required. We will remove them from our dataset."
   ]
  },
  {
   "cell_type": "code",
   "execution_count": null,
   "id": "21f18462",
   "metadata": {},
   "outputs": [],
   "source": [
    "loan = loan[loan.loan_status != 'Current']\n",
    "loan.shape"
   ]
  },
  {
   "cell_type": "markdown",
   "id": "9eed1b57",
   "metadata": {},
   "source": [
    "Now that we have cleaned up the data, we move on to Exploratory Data Analysis."
   ]
  },
  {
   "cell_type": "markdown",
   "id": "29423b93",
   "metadata": {},
   "source": [
    "### C. Data Overview"
   ]
  },
  {
   "cell_type": "code",
   "execution_count": null,
   "id": "712302ca",
   "metadata": {},
   "outputs": [],
   "source": [
    "loan.head()"
   ]
  },
  {
   "cell_type": "code",
   "execution_count": null,
   "id": "14a7d990",
   "metadata": {},
   "outputs": [],
   "source": [
    "# Identifying object types for the data\n",
    "loan.info()"
   ]
  },
  {
   "cell_type": "markdown",
   "id": "f78bb140",
   "metadata": {},
   "source": [
    "# 4. Univariate Analysis "
   ]
  },
  {
   "cell_type": "markdown",
   "id": "4ce72a0f",
   "metadata": {},
   "source": [
    "## A. Loan Status\n",
    "- Definition: Has the loan been paid fully or has it been charged off?\n",
    "- Type: Categorical\n",
    "- Values: Fully Paid, Charged Off (2)"
   ]
  },
  {
   "cell_type": "code",
   "execution_count": null,
   "id": "d6e9bd12",
   "metadata": {},
   "outputs": [],
   "source": [
    "# Calculate the Percentage of Defaulters (Borrowers with Charged Off Loans) at Lending Club\n",
    "\n",
    "loan_status_per = (loan.loan_status.value_counts(normalize=True))*100\n",
    "loan_status_per"
   ]
  },
  {
   "cell_type": "code",
   "execution_count": null,
   "id": "3cd2131d",
   "metadata": {},
   "outputs": [],
   "source": [
    "# Plot a Bar Chart to Visualize the Percentage of Defaulters at Lending Club\n",
    "\n",
    "x_values = loan_status_per.index\n",
    "y_values = loan_status_per.values\n",
    "\n",
    "\n",
    "fig = go.Figure(data=go.Bar(x=x_values, y=y_values))\n",
    "\n",
    "bar_width = 0.4\n",
    "fig.update_traces(width=bar_width)\n",
    "\n",
    "fig.update_layout(title='Loan Status Overview in Percentage', \n",
    "                  xaxis_title='Loan Status', \n",
    "                  yaxis_title='Percentage of Loans',\n",
    "                  width=500,  \n",
    "                  height=500)\n",
    "fig.show()\n"
   ]
  },
  {
   "cell_type": "markdown",
   "id": "1e3191e0",
   "metadata": {},
   "source": [
    "### Insight:\n",
    "- 14.14% of loans are being charged off at Lending Club.\n",
    "- Our goal is to ensure this overall percentage is being reduced.\n",
    "- Therefore, in our EDA, we will focus on metrics that are influencing the percentage of charged off loans.\n",
    "- That is, technically, every categorical and numeric variable will be viewed as a percentage of charged off loans."
   ]
  },
  {
   "cell_type": "markdown",
   "id": "2c8578bd",
   "metadata": {},
   "source": [
    "### In our analysis, 14.14% is being considered as the threshold amount. Any metric that affects the loan status (charged-off loan percentage) more than this threshold value needs to be considered with caution.\n",
    "\n"
   ]
  },
  {
   "cell_type": "markdown",
   "id": "6770814d",
   "metadata": {},
   "source": [
    "## B. Loan Amount\n",
    "\n",
    "1. loan_amnt:   \n",
    "- Amount which has been requested by the borrower from Lending Club as per past records \n",
    "- This is a continuous integer value\n",
    "\n",
    "2. funded_amnt:\n",
    "- Funded amount is the amount which was approved by Lending Club with respect to the loan applied\n",
    "- This is a continuous integer value \n",
    "- Funded amount should be less than or equal to loan amount\n",
    "\n",
    "3. funded_amnt_inv\n",
    "- Amount funded by the investor for the requested loan amount\n",
    "- It is a continuous float value\n",
    "- Funded amount invested should be less than or equal to funded amount"
   ]
  },
  {
   "cell_type": "markdown",
   "id": "46ac8d57",
   "metadata": {},
   "source": [
    "### Basic Data Cleansing\n",
    "- loan_amnt should be greater than or equal to funded_amnt\n",
    "- funded_amnt should be greater than or equal to funded_amnt_inv\n"
   ]
  },
  {
   "cell_type": "code",
   "execution_count": null,
   "id": "6a4a127b",
   "metadata": {},
   "outputs": [],
   "source": [
    "(loan.loan_amnt >= loan.funded_amnt).all()"
   ]
  },
  {
   "cell_type": "code",
   "execution_count": null,
   "id": "9bf4a931",
   "metadata": {},
   "outputs": [],
   "source": [
    "(loan.funded_amnt >= loan.funded_amnt_inv).all()"
   ]
  },
  {
   "cell_type": "code",
   "execution_count": null,
   "id": "48a8bd0b",
   "metadata": {},
   "outputs": [],
   "source": [
    "# Plot a histogram to View the Spread of Loan Amounts\n",
    "\n",
    "fig = go.Figure(data=go.Histogram(x=loan.loan_amnt))\n",
    "\n",
    "fig.update_layout(title='Distribution of Loan Amount', \n",
    "                  xaxis_title='Loan Amount', \n",
    "                  yaxis_title='Frequency',\n",
    "                  height = 700,\n",
    "                  xaxis=dict(showgrid=True),\n",
    "                  yaxis=dict(showgrid=True))\n",
    "\n",
    "fig.show()"
   ]
  },
  {
   "cell_type": "markdown",
   "id": "34178432",
   "metadata": {},
   "source": [
    "### Insight:\n",
    "- Maximum loans have been given between 5k-15k."
   ]
  },
  {
   "cell_type": "code",
   "execution_count": null,
   "id": "7d4b2e27",
   "metadata": {},
   "outputs": [],
   "source": [
    "# Plot a box plot to view the spread of loan amounts Over Loan Status\n",
    "\n",
    "fig = go.Figure(data=go.Box(x=loan.loan_status, y=loan.loan_amnt))\n",
    "\n",
    "fig.update_layout(title='Spread of Loan Amount Across Various Loan Status', \n",
    "                  yaxis_title='Loan Amount',\n",
    "                  xaxis_title='Loan Status',\n",
    "                  height = 700,\n",
    "                  width = 700\n",
    "                  )\n",
    "\n",
    "# Display the chart\n",
    "fig.show()"
   ]
  },
  {
   "cell_type": "markdown",
   "id": "e8818673",
   "metadata": {},
   "source": [
    "### Insight:\n",
    "\n",
    "- The plot depicting the Charged Off loans is slightly right skewed.\n",
    "- In comparison to the loans being fully paid, higher amount loans appear to be charged off more.\n"
   ]
  },
  {
   "cell_type": "code",
   "execution_count": null,
   "id": "80aaa817",
   "metadata": {},
   "outputs": [],
   "source": [
    "# Loan Amount is a Numerical Variable. Creating Bins Helps With Better Analysis.\n",
    "\n",
    "# Define the loan amount bins similar to the bins taken by the box plot graph\n",
    "bins = [0, 5000, 10000, 15000, 20000, 25000, 30000, 35000]\n",
    "\n",
    "# Create a new column 'loan_amnt_bin' to categorize loan amounts into bins\n",
    "loan['loan_amnt_bin'] = pd.cut(loan['loan_amnt'], bins)\n",
    "\n",
    "#Plotly cannot handle category datatype, so convert to str in a new column for plotting graphs\n",
    "loan['loan_amnt_bin_str'] = loan['loan_amnt_bin'].astype(str)\n",
    "\n",
    "#Category array will be used as a variable in plotly graphs since string variables tend to get sorted while plotting.\n",
    "#Here, we are preserving the order\n",
    "loan_amnt_cat_arr = ['(0, 5000]','(5000, 10000]','(10000, 15000]','(15000, 20000]',\n",
    "                     '(20000, 25000]','(25000, 30000]','(30000, 35000]']\n",
    "\n",
    "#Charged-off loans dataset\n",
    "loan_npaid = loan[loan.loan_status =='Charged Off']\n",
    "#Fully-paid loans dataset\n",
    "loan_fpaid = loan[loan.loan_status =='Fully Paid']"
   ]
  },
  {
   "cell_type": "code",
   "execution_count": null,
   "id": "3df08e12",
   "metadata": {},
   "outputs": [],
   "source": [
    "# Plot a Graph: Percentage of Loans Charged Off or Fully Paid per Loan Amount Bin \n",
    "\n",
    "loan_count = loan.groupby(['loan_amnt_bin_str', 'loan_status']).size().unstack()\n",
    "loan_count = loan_count.reset_index()\n",
    "loan_count['npaid_ratio'] = round((loan_count['Charged Off'] / \n",
    "                                   (loan_count['Charged Off'] + \n",
    "                                    loan_count['Fully Paid']))*100,2)\n",
    "loan_count['fpaid_ratio'] = round((loan_count['Fully Paid'] / \n",
    "                                   (loan_count['Charged Off'] + \n",
    "                                    loan_count['Fully Paid']))*100,2)\n",
    "\n",
    "fig = go.Figure()\n",
    "\n",
    "# Add Bar trace for Charged Off Loans\n",
    "\n",
    "fig.add_trace(go.Bar(\n",
    "    x=loan_count.loan_amnt_bin_str,\n",
    "    y=loan_count.npaid_ratio,\n",
    "    name='Charged-Off Loans',\n",
    "    offset=-0.2,\n",
    "    marker=dict(color='Red')\n",
    "))\n",
    "\n",
    "# Add Bar trace for Fully Paid Loans\n",
    "fig.add_trace(go.Bar(\n",
    "    x=loan_count.loan_amnt_bin_str,\n",
    "    y=loan_count.fpaid_ratio,\n",
    "    name='Fully Paid Loans',\n",
    "    offset=0.2,\n",
    "    marker=dict(color='Green')\n",
    "))\n",
    "\n",
    "bar_width = 0.4\n",
    "fig.update_traces(width=bar_width)\n",
    "\n",
    "# Update the layout\n",
    "fig.update_layout(\n",
    "    title='Loan Status Across Various Loan Amount Bins',\n",
    "    xaxis_title='Loan Amount Bins',\n",
    "    yaxis_title='Percentage of Loans',\n",
    "    xaxis=dict(categoryorder='array', categoryarray=loan_amnt_cat_arr),\n",
    "    barmode='group'\n",
    ")\n",
    "\n",
    "# Display the chart\n",
    "fig.show()"
   ]
  },
  {
   "cell_type": "markdown",
   "id": "ed4d7a2b",
   "metadata": {},
   "source": [
    "### Insights:\n",
    "- Loans of high value (30k-35k) are being charged off the most(24.07%) which means high value loans are high risk.\n",
    "- Loans greater than 15k are being charged off more than 15% which is higher than the overall 14.14% threshold value we have taken.\n",
    "- Loans between 5000-10000 are being charged off the least(12.42%) and paid off the most."
   ]
  },
  {
   "cell_type": "markdown",
   "id": "6adab3c6",
   "metadata": {},
   "source": [
    "## Funded Amount Invested - Confidence of Investors\n",
    "If funded_amnt_inv is equal to loan_amnt, it implies that the investor had full confidence on the borrower. Let us analyze if the confidence of the investor has any impact on the percentage of charged off loans."
   ]
  },
  {
   "cell_type": "code",
   "execution_count": null,
   "id": "e39ec00e",
   "metadata": {},
   "outputs": [],
   "source": [
    "# Create a New Column to State if the Lender Had Full Confidence in the Borrower or Not\n",
    "\n",
    "loan['conf'] = np.where(loan['loan_amnt'] == loan['funded_amnt_inv'], 'Yes', 'No')\n",
    "#Charged-off loans dataset\n",
    "loan_npaid = loan[loan.loan_status =='Charged Off']\n",
    "#Fully-paid loans dataset\n",
    "loan_fpaid = loan[loan.loan_status =='Fully Paid']"
   ]
  },
  {
   "cell_type": "code",
   "execution_count": null,
   "id": "680cb2f7",
   "metadata": {},
   "outputs": [],
   "source": [
    "loan.conf.value_counts()"
   ]
  },
  {
   "cell_type": "code",
   "execution_count": null,
   "id": "7412f16a",
   "metadata": {},
   "outputs": [],
   "source": [
    "# Plot a Graph to Show: Did the Confidence of the Investor Have Any Impact on the Repayment of Loans?\n",
    "\n",
    "fig = go.Figure(data=go.Bar(x=loan.conf.value_counts().index, \n",
    "                            y=loan.conf.value_counts().values))\n",
    "\n",
    "bar_width = 0.4\n",
    "fig.update_traces(width=bar_width)\n",
    "\n",
    "fig.update_layout(title='Number of Loans Over Confidence of Investors', \n",
    "                  xaxis_title='Did the Investor Have Full Confidence?', \n",
    "                  yaxis_title='Number of Loans',\n",
    "                  width=500,  \n",
    "                  height=500)\n",
    "fig.show()"
   ]
  },
  {
   "cell_type": "markdown",
   "id": "c51d5090",
   "metadata": {},
   "source": [
    "#### Insight:\n",
    "- The investors have had an equally mixed opinion on the borrowers. \n",
    "- Overall, the investors have had full confidence while issuing 50% of the loans which turns out to be ~17.6k loans."
   ]
  },
  {
   "cell_type": "code",
   "execution_count": null,
   "id": "5e6492d7",
   "metadata": {},
   "outputs": [],
   "source": [
    "# Filter Out Loans Where Investor Had Full Confidence\n",
    "\n",
    "conf_npaid = loan_npaid.conf.value_counts().sort_index()\n",
    "conf_total = loan.conf.value_counts().sort_index()\n",
    "conf_per = ( conf_npaid / conf_total )*100\n",
    "conf_per"
   ]
  },
  {
   "cell_type": "code",
   "execution_count": null,
   "id": "a713df82",
   "metadata": {},
   "outputs": [],
   "source": [
    "# Plot a Graph to Show: Did the Confidence of the Investor Have Any Impact on the Repayment of Loans?\n",
    "\n",
    "x_values = conf_per.index\n",
    "y_values = conf_per.values\n",
    "\n",
    "fig = go.Figure(data=go.Bar(x=x_values, y=y_values))\n",
    "\n",
    "bar_width = 0.4\n",
    "fig.update_traces(width=bar_width)\n",
    "\n",
    "fig.update_layout(title='Percentage of Charged-Off Loans Over Confidence of Investors', \n",
    "                  xaxis_title='Did the Investor Have Full Confidence?', \n",
    "                  yaxis_title='Percentage of Defaulters',\n",
    "                  width=500,  \n",
    "                  height=500)\n",
    "fig.show()\n"
   ]
  },
  {
   "cell_type": "markdown",
   "id": "0d46195a",
   "metadata": {},
   "source": [
    "### Insight:\n",
    "- Of the given out ~17.6k loans where the investors have had full confidence, 13.81% have been charged-off.\n",
    "- Likewise, of the given out ~17.8k loans where the investors have not had full confidence, 14.4% have been charged-off.\n",
    "- The confidence of the investors does not have any direct impact on the repayment of loans.\n",
    "- We will exclude this variable for further analysis."
   ]
  },
  {
   "cell_type": "markdown",
   "id": "6c24de52",
   "metadata": {},
   "source": [
    "## C. Loan Term\n",
    "- Duration in which loan will be repayed\n",
    "- This can also be seen as installments in which loan is repayed\n",
    "- In the lending club case study, terms takes two values: 36 Months (short term), 60 Months(long term)"
   ]
  },
  {
   "cell_type": "code",
   "execution_count": null,
   "id": "2b14ae66",
   "metadata": {
    "scrolled": true
   },
   "outputs": [],
   "source": [
    "# Plot a graph to display number of loans given in each loan term\n",
    "\n",
    "term_total = loan.term.value_counts().sort_index()\n",
    "\n",
    "fig = go.Figure()\n",
    "fig.add_trace(go.Bar(\n",
    "    x=term_total.index,\n",
    "    y=term_total.values,\n",
    "    name='Loan Term',\n",
    "    marker=dict(color='Blue')\n",
    "))\n",
    "bar_width = 0.2\n",
    "fig.update_traces(width=bar_width)\n",
    "fig.update_layout(\n",
    "    title='Number of Loans Over Loan Terms',\n",
    "    xaxis_title='Loan Term',\n",
    "    yaxis_title='Number of Loans'\n",
    ")\n",
    "fig.show()\n",
    "\n"
   ]
  },
  {
   "cell_type": "markdown",
   "id": "a13b5fa6",
   "metadata": {},
   "source": [
    "### Insight:\n",
    "- Borrowers tend to go for shorter loan term of 36 months. \n",
    "- 26.47k people have opted for a short term loan which is about 75% of the total loans given."
   ]
  },
  {
   "cell_type": "code",
   "execution_count": null,
   "id": "036b5f13",
   "metadata": {},
   "outputs": [],
   "source": [
    "# Plot a Graph to Display Percentage of Charged Off Loans Across Both the Loan Terms\n",
    "\n",
    "term_npaid = loan_npaid.term.value_counts().sort_index()\n",
    "term_fpaid = loan_fpaid.term.value_counts().sort_index()\n",
    "term_npaid_per = (term_npaid.values / term_total.values)*100\n",
    "\n",
    "fig = go.Figure()\n",
    "fig.add_trace(go.Bar(\n",
    "    x=term_total.index,\n",
    "    y=term_npaid_per,\n",
    "    name='Loan Term',\n",
    "    marker=dict(color='Blue')\n",
    "))\n",
    "bar_width = 0.2\n",
    "fig.update_traces(width=bar_width)\n",
    "fig.update_layout(\n",
    "    title='Variation in Debtors Over Loan Terms',\n",
    "    xaxis_title='Loan Term',\n",
    "    yaxis_title='Percentage of Charged Off Loans'\n",
    ")\n",
    "fig.show()"
   ]
  },
  {
   "cell_type": "markdown",
   "id": "21f7e385",
   "metadata": {},
   "source": [
    "### Insight:\n",
    "- Only 10% of loans with a 36 month term are being charged off, i.e., only 10% of 26.47k loans are being charged off.\n",
    "- 24.76% of loans with a 60 month term are being charged off. This is way higher than the threshold value.\n",
    "- Further insights on this metric can be derived during bivariate analysis with other metrics."
   ]
  },
  {
   "cell_type": "markdown",
   "id": "d0b97c8c",
   "metadata": {},
   "source": [
    "## D. Interest Rate\n",
    "- Interest rate on the loan (having value in percentage)\n",
    "- Borrowerer will have to pay actual loan + interest on top of the loan in order to pay off complete loan \n",
    "- Some of the factors which could influence interest rate could be economic strength, inflation, government policy, supply and demand, credit risk, and loan period\n",
    "- This is a continuous float value"
   ]
  },
  {
   "cell_type": "code",
   "execution_count": null,
   "id": "4e8afb04",
   "metadata": {
    "scrolled": true
   },
   "outputs": [],
   "source": [
    "# Convert loan rate to float object\n",
    "loan.int_rate = loan.int_rate.apply(lambda x: float( x[:-1]))\n",
    "\n",
    "# Plot a Histogram to View the Spread of Interest rates\n",
    "fig = go.Figure(data=go.Histogram(x=loan.int_rate, nbinsx=20))\n",
    "\n",
    "fig.update_layout(title='Distribution of Interest Rate', \n",
    "                  xaxis_title='Interest Rate', \n",
    "                  yaxis_title='Frequency',\n",
    "                  height = 500,\n",
    "                  xaxis=dict(showgrid=True),\n",
    "                  yaxis=dict(showgrid=True))\n",
    "\n",
    "fig.show()"
   ]
  },
  {
   "cell_type": "markdown",
   "id": "4bb3fbe9",
   "metadata": {},
   "source": [
    "### Insight:\n",
    "- Most loans have an interest rate between 7 to 13%."
   ]
  },
  {
   "cell_type": "code",
   "execution_count": null,
   "id": "1dde082f",
   "metadata": {},
   "outputs": [],
   "source": [
    "# Plot a Graph to Dispaly Spread of Interest Rate Over Loan Status\n",
    "\n",
    "fig = go.Figure(data=go.Box(x=loan.loan_status, y=loan.int_rate))\n",
    "fig.update_layout(title='Spread of Interest Rate Over Loan Status', \n",
    "                  yaxis_title='Loan Interest Rate',\n",
    "                  xaxis_title='Loan Status',\n",
    "                  height = 700,\n",
    "                  width = 700\n",
    "                  )\n",
    "fig.show()"
   ]
  },
  {
   "cell_type": "markdown",
   "id": "1c419787",
   "metadata": {},
   "source": [
    "### Insight:\n",
    "- The plot displaying charged off loans is right skewed. \n",
    "- Higher interest rate loans are being charged off more with a median interest rate of 13.8%.\n",
    "\n",
    "\n",
    "\n"
   ]
  },
  {
   "cell_type": "code",
   "execution_count": null,
   "id": "6aeecd8b",
   "metadata": {},
   "outputs": [],
   "source": [
    "# Plot a Graph to Display Percentage of Charged Off Loans Across Interest Rates.\n",
    "# Since Interest Rate is a Numeric Variable, we will bucket it first.\n",
    "\n",
    "loan['int_rate_bin'] = round(loan.int_rate)\n",
    "\n",
    "#Charged-off loans dataset\n",
    "loan_npaid = loan[loan.loan_status =='Charged Off']\n",
    "#Fully-paid loans dataset\n",
    "loan_fpaid = loan[loan.loan_status =='Fully Paid']\n",
    "\n",
    "int_rate_npaid = loan_npaid.int_rate_bin.value_counts().sort_index()\n",
    "int_rate_total = loan.int_rate_bin.value_counts().sort_index()\n",
    "int_rate_npaid_per = (int_rate_npaid.values / int_rate_total.values)*100\n",
    "\n",
    "fig = go.Figure()\n",
    "fig.add_trace(go.Bar(\n",
    "    x=int_rate_total.index,\n",
    "    y=int_rate_npaid_per,\n",
    "    name='Loan Term',\n",
    "    marker=dict(color='Blue')\n",
    "))\n",
    "bar_width = 0.2\n",
    "fig.update_traces(width=bar_width)\n",
    "fig.update_layout(\n",
    "    title='Variation in Debtors Over Loan Terms',\n",
    "    xaxis_title='Interest Rate',\n",
    "    yaxis_title='Percentage of Charged Off Loans',\n",
    ")\n",
    "fig.show()"
   ]
  },
  {
   "cell_type": "markdown",
   "id": "6649e20f",
   "metadata": {},
   "source": [
    "### Insight:\n",
    "- It is very evident that as interest rate goes up, percentage of charged off loans also increases. \n",
    "- Loans with interest rate greater than or equal to 12% are being charged off more than 14.5% which is above the threshold value determined for our analysis. \n",
    "- More than 30% of the loans with interest rate greater than 19% are being charged off which is twice the threshold value."
   ]
  },
  {
   "cell_type": "markdown",
   "id": "d056069d",
   "metadata": {},
   "source": [
    "## E. Installment\n",
    "- Fixed amount of money that must be repaid with regularly scheduled payments by borrowers\n",
    "- It is a continuous float value"
   ]
  },
  {
   "cell_type": "code",
   "execution_count": null,
   "id": "517dad8a",
   "metadata": {},
   "outputs": [],
   "source": [
    "# Plot a Histogram to View the Spread of Monthly Installments\n",
    "\n",
    "fig = go.Figure(data=go.Histogram(x=loan.installment, nbinsx=20))\n",
    "\n",
    "fig.update_layout(title='Distribution of Monthly Installments', \n",
    "                  xaxis_title='Monthly Installments', \n",
    "                  yaxis_title='Frequency',\n",
    "                  height = 700,\n",
    "                  xaxis=dict(showgrid=True),\n",
    "                  yaxis=dict(showgrid=True))\n",
    "\n",
    "fig.show()"
   ]
  },
  {
   "cell_type": "markdown",
   "id": "e7542df3",
   "metadata": {},
   "source": [
    "### Insight:\n",
    "- Most loans have a monthly installment between 100 to 400."
   ]
  },
  {
   "cell_type": "code",
   "execution_count": null,
   "id": "7ff1d624",
   "metadata": {},
   "outputs": [],
   "source": [
    "# Plot a Graph to Dispaly Spread of Monthly Installment Amount Over Loan Status\n",
    "\n",
    "fig = go.Figure(data=go.Box(x=loan.loan_status, y=loan.installment))\n",
    "fig.update_layout(title='Spread of Monthly Installment Amount Over Loan Status', \n",
    "                  yaxis_title='Monthly Installment Amount',\n",
    "                  xaxis_title='Loan Status',\n",
    "                  height = 700,\n",
    "                  width = 700\n",
    "                  )\n",
    "fig.show()"
   ]
  },
  {
   "cell_type": "markdown",
   "id": "f75edde0",
   "metadata": {},
   "source": [
    "### Insight:\n",
    "- The plot displaying charged off loans is slightly right skewed. \n",
    "- Number of loans with higher monthly installments being charged off is more with a median installment amount of 296.84."
   ]
  },
  {
   "cell_type": "code",
   "execution_count": null,
   "id": "65251ac4",
   "metadata": {},
   "outputs": [],
   "source": [
    "# Plot a Graph to Display Percentage of Charged Off Loans Across Monthly Installment Amounts.\n",
    "# Since Monthly Installment is a Numeric Variable, we will bucket it first.\n",
    "\n",
    "# Define the installment bins similar to the bins taken by the box plot graph\n",
    "bins = [0, 200, 400, 600, 800, 1000, 1200, 1400]\n",
    "\n",
    "# Create a new column 'loan_amnt_bin' to categorize loan amounts into bins\n",
    "loan['installment_bin'] = pd.cut(loan['installment'], bins)\n",
    "\n",
    "#Plotly cannot handle category datatype, so convert to str in a new column for plotting graphs\n",
    "loan['installment_bin_str'] = loan['installment_bin'].astype(str)\n",
    "\n",
    "#Category array will be used as a variable in plotly graphs since string variables tend to get sorted while plotting.\n",
    "#Here, we are preserving the order\n",
    "installment_cat_arr = ['(0, 200]','(200, 400]','(400, 600]','(600, 800]',\n",
    "                     '(800, 1000]','(1000, 1200]','(1200, 1400]']\n",
    "\n",
    "#Charged-off loans dataset\n",
    "loan_npaid = loan[loan.loan_status =='Charged Off']\n",
    "#Fully-paid loans dataset\n",
    "loan_fpaid = loan[loan.loan_status =='Fully Paid']\n"
   ]
  },
  {
   "cell_type": "code",
   "execution_count": null,
   "id": "c2ef0617",
   "metadata": {},
   "outputs": [],
   "source": [
    "# Plot a Graph: Percentage of Loans Charged Off or Fully Paid per Installment Amount Bin \n",
    "\n",
    "loan_count = loan.groupby(['installment_bin_str', 'loan_status']).size().unstack()\n",
    "loan_count = loan_count.reset_index()\n",
    "loan_count['npaid_ratio'] = round((loan_count['Charged Off'] / \n",
    "                                   (loan_count['Charged Off'] + \n",
    "                                    loan_count['Fully Paid']))*100,2)\n",
    "loan_count['fpaid_ratio'] = round((loan_count['Fully Paid'] / \n",
    "                                   (loan_count['Charged Off'] + \n",
    "                                    loan_count['Fully Paid']))*100,2)\n",
    "\n",
    "fig = go.Figure()\n",
    "fig.add_trace(go.Bar(\n",
    "    x=loan_count.installment_bin_str,\n",
    "    y=loan_count.npaid_ratio,\n",
    "    name='Charged-Off Loans',\n",
    "    offset=-0.2,\n",
    "    marker=dict(color='Red')\n",
    "))\n",
    "fig.add_trace(go.Bar(\n",
    "    x=loan_count.installment_bin_str,\n",
    "    y=loan_count.fpaid_ratio,\n",
    "    name='Fully Paid Loans',\n",
    "    offset=0.2,\n",
    "    marker=dict(color='Green')\n",
    "))\n",
    "bar_width = 0.4\n",
    "fig.update_traces(width=bar_width)\n",
    "fig.update_layout(\n",
    "    title='Loan Status Across Various Monthly Installment Amount Bins',\n",
    "    xaxis_title='Installment Amount Bins',\n",
    "    yaxis_title='Percentage of Loans',\n",
    "    xaxis=dict(categoryorder='array', categoryarray=installment_cat_arr),\n",
    "    barmode='group'\n",
    ")\n",
    "fig.show()"
   ]
  },
  {
   "cell_type": "markdown",
   "id": "893d037e",
   "metadata": {},
   "source": [
    "### Insight:\n",
    "- Loans with installment amount between 400 and 1000 are being charged off more than 14.5% which is above the threshold value determined for our analysis. \n",
    "- It is interesting to note that for extremely high installment amount, the charge off % is lesser compared to the mid-range. It is possible that people with higher monthly installment are likeyly to close their loans since they will incur higher penalty when not done in time."
   ]
  },
  {
   "cell_type": "markdown",
   "id": "4193921c",
   "metadata": {},
   "source": [
    "## F. Grade\n",
    "- Lending Club assigned loan grade\n",
    "- Loan grades are set based on both the borrower's credit profile and the nature of the contract\n",
    "- 'A' grade loans represent the lowest risk while 'G' grade loans represent high risk\n",
    "- In the current case study, grade takes values: A,B,C,D,E,F,G"
   ]
  },
  {
   "cell_type": "code",
   "execution_count": null,
   "id": "758a497c",
   "metadata": {},
   "outputs": [],
   "source": [
    "# Plot a graph to display number of loans given for each grade\n",
    "\n",
    "grade_total = loan.grade.value_counts().sort_index()\n",
    "\n",
    "fig = go.Figure()\n",
    "fig.add_trace(go.Bar(\n",
    "    x=grade_total.index,\n",
    "    y=grade_total.values,\n",
    "    name='Grade of Loan',\n",
    "    marker=dict(color='Blue')\n",
    "))\n",
    "bar_width = 0.2\n",
    "fig.update_traces(width=bar_width)\n",
    "fig.update_layout(\n",
    "    title='Number of Loans Over Loan Grade',\n",
    "    xaxis_title='Loan Grade',\n",
    "    yaxis_title='Number of Loans'\n",
    ")\n",
    "fig.show()"
   ]
  },
  {
   "cell_type": "markdown",
   "id": "38b7dd37",
   "metadata": {},
   "source": [
    "### Insight:\n",
    "- More than 30% borrowers (~10.73k loans) tend to apply for B grade loans.\n",
    "- A, B and C grade loans contirbute to over 75% of the loans issued."
   ]
  },
  {
   "cell_type": "code",
   "execution_count": null,
   "id": "5d570f42",
   "metadata": {},
   "outputs": [],
   "source": [
    "# Plot a Graph to Display Percentage of Charged Off Loans Across Loan Grades\n",
    "\n",
    "grade_npaid = loan_npaid.grade.value_counts().sort_index()\n",
    "grade_fpaid = loan_fpaid.grade.value_counts().sort_index()\n",
    "grade_npaid_per = (grade_npaid.values / grade_total.values)*100\n",
    "\n",
    "fig = go.Figure()\n",
    "fig.add_trace(go.Bar(\n",
    "    x=grade_total.index,\n",
    "    y=grade_npaid_per,\n",
    "    name='Loan Grade',\n",
    "    marker=dict(color='Blue')\n",
    "))\n",
    "bar_width = 0.2\n",
    "fig.update_traces(width=bar_width)\n",
    "fig.update_layout(\n",
    "    title='Variation in Debtors Over Loan Grades',\n",
    "    xaxis_title='Loan Grade',\n",
    "    yaxis_title='Percentage of Charged Off Loans'\n",
    ")\n",
    "fig.show()"
   ]
  },
  {
   "cell_type": "markdown",
   "id": "7e2cc614",
   "metadata": {},
   "source": [
    "### Insight:\n",
    "- It is evident that high risk loans (loans of high grade) are being charged off more although they are given out less in number ( as per previous analysis).\n",
    "- It can be further analyzed in the bivariate if grade is correlated to any other variable such as interest rate to see if high risk loans are categorized by high interest rates too.\n",
    "- High-risk loans with grades (E, F, G) are being charged off at ~30% which is twice the threshold value for our analysis.\n",
    "- Loans of grade C, D, E, F, G have a charge off rate greater than 15% - this exceed the set threshold value for our analysis.\n"
   ]
  },
  {
   "cell_type": "markdown",
   "id": "c42e29bd",
   "metadata": {},
   "source": [
    "## G. Sub Grade\n",
    "- Lending Club assigned loan subgrade\n",
    "- With in each loan garde also subgarde assigned to get better risk factors attached with the loans\n",
    "- For example with in grade A we have [A1, A2, A3, A4, A5] to better categorize the loan"
   ]
  },
  {
   "cell_type": "code",
   "execution_count": null,
   "id": "94338260",
   "metadata": {},
   "outputs": [],
   "source": [
    "# Plot a graph to display number of loans given for each sub-grade\n",
    "\n",
    "sub_grade_total = loan.sub_grade.value_counts().sort_index()\n",
    "\n",
    "fig = go.Figure()\n",
    "fig.add_trace(go.Bar(\n",
    "    x=sub_grade_total.index,\n",
    "    y=sub_grade_total.values,\n",
    "    name='Sub Grade of Loan',\n",
    "    marker=dict(color='Blue')\n",
    "))\n",
    "bar_width = 0.2\n",
    "fig.update_traces(width=bar_width)\n",
    "fig.update_layout(\n",
    "    title='Number of Loans Over Loan Sub Grade',\n",
    "    xaxis_title='Loan Sub Grade',\n",
    "    yaxis_title='Number of Loans'\n",
    ")\n",
    "fig.show()"
   ]
  },
  {
   "cell_type": "markdown",
   "id": "55ec5bc3",
   "metadata": {},
   "source": [
    "### Insight:\n",
    "- The sub grade graph gives detailed insights into the distribution of loans when compared to the grade graph.\n",
    "- Although, the insights are similar, this graph helps us indentify which sub grades have most loans given out.\n",
    "- In particular, it can be seen that ~40% of the loans are given out between A4 and C2."
   ]
  },
  {
   "cell_type": "code",
   "execution_count": null,
   "id": "58fce984",
   "metadata": {
    "scrolled": false
   },
   "outputs": [],
   "source": [
    "# Plot a Graph to Display Percentage of Charged Off Loans Across Loan Sub Grades\n",
    "\n",
    "sub_grade_npaid = loan_npaid.sub_grade.value_counts().sort_index()\n",
    "sub_grade_fpaid = loan_fpaid.sub_grade.value_counts().sort_index()\n",
    "sub_grade_npaid_per = (sub_grade_npaid.values / sub_grade_total.values)*100\n",
    "\n",
    "fig = go.Figure()\n",
    "fig.add_trace(go.Bar(\n",
    "    x=sub_grade_total.index,\n",
    "    y=sub_grade_npaid_per,\n",
    "    name='Loan Sub Grade',\n",
    "    marker=dict(color='Blue')\n",
    "))\n",
    "bar_width = 0.2\n",
    "fig.update_traces(width=bar_width)\n",
    "fig.update_layout(\n",
    "    title='Variation in Debtors Over Loan Sub Grades',\n",
    "    xaxis_title='Loan Sub Grade',\n",
    "    yaxis_title='Percentage of Charged Off Loans'\n",
    ")\n",
    "fig.show()"
   ]
  },
  {
   "cell_type": "markdown",
   "id": "4599d42b",
   "metadata": {},
   "source": [
    "### Insights:\n",
    "- Higher grade loans are high risk loans - they are being charged off more.\n",
    "- Loans above C grade are being charged off more than 15% which is more than the threshold value. \n",
    "- Loans in E4 and above have a charge off percentage greater than 28 which is twice more than the set threshod for analysis.\n",
    "- Since sub-grades give deeper insights, the grade metric will be ignored for future analysis."
   ]
  },
  {
   "cell_type": "markdown",
   "id": "366555a0",
   "metadata": {},
   "source": [
    "## H. Employee Title\n",
    "- The job title supplied by the borrower when applying for the loan. It also represent the organization the borrower works for\n",
    "- Free text field, can take any value in string domain"
   ]
  },
  {
   "cell_type": "code",
   "execution_count": null,
   "id": "a4cf993d",
   "metadata": {},
   "outputs": [],
   "source": [
    "#Calculate Number of Borrowers Across Various Employee Titles\n",
    "emp_title_total = ((loan.emp_title.value_counts(normalize=True))*100)\n",
    "emp_title_total"
   ]
  },
  {
   "cell_type": "markdown",
   "id": "a08a748b",
   "metadata": {},
   "source": [
    "### Insight:\n",
    "There are 27506 unique employee titles. Categorizing these values might only result in a very small percentage of borrower who can be grouped together.\n",
    "\n",
    "Let us confirm with a visualization"
   ]
  },
  {
   "cell_type": "code",
   "execution_count": null,
   "id": "443d4923",
   "metadata": {},
   "outputs": [],
   "source": [
    "# Plot a Graph to Display Number of Loans Per Employee Title\n",
    "fig = go.Figure()\n",
    "fig.add_trace(go.Bar(\n",
    "    x=emp_title_total.head(15).index,\n",
    "    y=emp_title_total.head(15).values,\n",
    "    name='Employee Title',\n",
    "    marker=dict(color='Blue')\n",
    "))\n",
    "bar_width = 0.2\n",
    "fig.update_traces(width=bar_width)\n",
    "fig.update_layout(\n",
    "    title='Overview of Borrowers Across Employee Titles',\n",
    "    xaxis_title='Employee Title',\n",
    "    yaxis_title='Percentage of Borrowers',\n",
    "\n",
    ")\n",
    "fig.show()"
   ]
  },
  {
   "cell_type": "markdown",
   "id": "695fadca",
   "metadata": {},
   "source": [
    "### Insight:\n",
    "- <1% of borrowers have the same employee title. Grouping borrowers under this metric will not give us any effective analysis. \n",
    "- It is a free text field. Example, US Army and U.S. Army are two values observed. Although they might mean the same, it is difficult to comprehend how many such different values are to be grouped together.\n",
    "- Another example of similar kind is that of USAF, US Air Force, United States Air Force. It is unclear if USAF is different or same as US Air Force. Therefore, imputation also cannot be performed.\n",
    "- Therefore, the employee title metric will be ignored for future analysis."
   ]
  },
  {
   "cell_type": "markdown",
   "id": "aee79bca",
   "metadata": {},
   "source": [
    "## I. Employee Length\n",
    "- Employment length in years - employment tenure of the borrower\n",
    "- Possible values are between 0 and 10 where 0 means less than one year and 10 means ten or more years"
   ]
  },
  {
   "cell_type": "code",
   "execution_count": null,
   "id": "43780c13",
   "metadata": {},
   "outputs": [],
   "source": [
    "# Plot a Graph to Display Number of Loans Across Employee Tenure\n",
    "emp_length_total = loan.emp_length.value_counts().sort_index()\n",
    "\n",
    "fig = go.Figure()\n",
    "fig.add_trace(go.Bar(\n",
    "    x=emp_length_total.index,\n",
    "    y=emp_length_total.values,\n",
    "    name='Emploee Tenure',\n",
    "    marker=dict(color='Blue')\n",
    "))\n",
    "bar_width = 0.2\n",
    "fig.update_traces(width=bar_width)\n",
    "emp_len_cat_arr = ['< 1 year','1 year','2 years','3 years','4 years','5 years',\n",
    "                   '6 years','7 years','8 years','9 years','10+ years']\n",
    "fig.update_layout(\n",
    "    title='Number of Loans Over Employee Tenure',\n",
    "    xaxis_title='Employee Tenure',\n",
    "    yaxis_title='Number of Loans',\n",
    "    xaxis=dict(categoryorder='array', categoryarray=emp_len_cat_arr)\n",
    ")\n",
    "fig.show()"
   ]
  },
  {
   "cell_type": "markdown",
   "id": "e644360b",
   "metadata": {},
   "source": [
    "### Insights:\n",
    "- People with the highest employment tenure tend to apply for more loans. More than 8000 loans which contirbute to ~22% of the loans taken are by people with highest employment tenure (>10 years).\n",
    "- Further analysis on why people take loans after 10+ years can be analysed.\n",
    "- It can be observed that less experienced people and people with more than 10+ year experience are taking more loans."
   ]
  },
  {
   "cell_type": "code",
   "execution_count": null,
   "id": "3e113fda",
   "metadata": {},
   "outputs": [],
   "source": [
    "# Plot a Graph to Display Percentage of Charged Off Loans Across Employee Tenure\n",
    "\n",
    "emp_length_npaid = loan_npaid.emp_length.value_counts().sort_index()\n",
    "emp_length_fpaid = loan_fpaid.emp_length.value_counts().sort_index()\n",
    "emp_length_npaid_per = (emp_length_npaid.values / emp_length_total.values)*100\n",
    "\n",
    "fig = go.Figure()\n",
    "fig.add_trace(go.Bar(\n",
    "    x=emp_length_total.index,\n",
    "    y=emp_length_npaid_per,\n",
    "    name='Employee tenure',\n",
    "    marker=dict(color='Blue')\n",
    "))\n",
    "bar_width = 0.2\n",
    "fig.update_traces(width=bar_width)\n",
    "fig.update_layout(\n",
    "    title='Variation in Debtors Over Employee Tenures',\n",
    "    xaxis_title='Employee Tenure',\n",
    "    yaxis_title='Percentage of Charged Off Loans',\n",
    "    xaxis=dict(categoryorder='array', categoryarray=emp_len_cat_arr)\n",
    ")\n",
    "fig.show()"
   ]
  },
  {
   "cell_type": "markdown",
   "id": "e40054f4",
   "metadata": {},
   "source": [
    "### Insights:\n",
    "- There is no significant difference in the percentage of debtors across employment tenures\n",
    "- In all the tenures, loans are being charged off at a rate closer to the threshold value taken for analysis (~14%)\n",
    "- Employee length metric does not have any significant impact on loans being charged off"
   ]
  },
  {
   "cell_type": "markdown",
   "id": "c823de26",
   "metadata": {},
   "source": [
    "## J. Home Ownership\n",
    "- The home ownership status provided by the borrower during registration\n",
    "- Our values are: RENT, OWN, MORTGAGE, OTHER\n"
   ]
  },
  {
   "cell_type": "code",
   "execution_count": null,
   "id": "41649508",
   "metadata": {},
   "outputs": [],
   "source": [
    "# Plot Graph to Display Number of Loans Across Home Ownership Categories\n",
    "\n",
    "home_ownership_total = loan.home_ownership.value_counts().sort_index()\n",
    "\n",
    "fig = go.Figure()\n",
    "fig.add_trace(go.Bar(\n",
    "    x=home_ownership_total.index,\n",
    "    y=home_ownership_total.values,\n",
    "    name='Home Ownership Status',\n",
    "    marker=dict(color='Blue')\n",
    "))\n",
    "bar_width = 0.2\n",
    "fig.update_traces(width=bar_width)\n",
    "fig.update_layout(\n",
    "    title='Number of Borrowers In Various Home Ownership Status',\n",
    "    xaxis_title='Home Ownership Status',\n",
    "    yaxis_title='Number of Borrowers',\n",
    ")\n",
    "fig.show()"
   ]
  },
  {
   "cell_type": "markdown",
   "id": "aa70c619",
   "metadata": {},
   "source": [
    "### Insight: \n",
    "- People on Rent and Mortgage contribute to over 90% of total loans taken (~32k loans).\n",
    "- People under 'Other Category' are very less (less than 1%) and can be ignored for future analysis."
   ]
  },
  {
   "cell_type": "code",
   "execution_count": null,
   "id": "dc30399f",
   "metadata": {},
   "outputs": [],
   "source": [
    "# Plot Graph to Display Percentage of Charged Off Loans Across Home Ownership Categories\n",
    "home_ownership_npaid = loan_npaid.home_ownership.value_counts().sort_index()\n",
    "home_ownership_npaid_per = (home_ownership_npaid.values / home_ownership_total.values)*100\n",
    "\n",
    "fig = go.Figure()\n",
    "fig.add_trace(go.Bar(\n",
    "    x=home_ownership_total.index,\n",
    "    y=home_ownership_npaid_per,\n",
    "    name='Home Ownership Status',\n",
    "    marker=dict(color='Blue')\n",
    "))\n",
    "bar_width = 0.2\n",
    "fig.update_traces(width=bar_width)\n",
    "fig.update_layout(\n",
    "    title='Variation in Debtors Over Home Ownership Status (Ignore Other Category)',\n",
    "    xaxis_title='Home Ownership Status',\n",
    "    yaxis_title='Percentage of Charged Off Loans',\n",
    ")\n",
    "fig.show()"
   ]
  },
  {
   "cell_type": "markdown",
   "id": "5f4436df",
   "metadata": {},
   "source": [
    "### Insight:\n",
    "- Although we noticed in the previous graph that home ownership category influenced whether a loan was taken or not, once a loan was taken, the rate of charge off doesn't vary much (among mortgage, own, rent) as can be seen in this graph.\n",
    "- As discussed, we have ignored 'other' category for analysis.\n"
   ]
  },
  {
   "cell_type": "markdown",
   "id": "1a323fea",
   "metadata": {},
   "source": [
    "## K. Annual Income\n",
    "- Annual income provided by the borrower during registration \n",
    "- Can take any value in float domain"
   ]
  },
  {
   "cell_type": "code",
   "execution_count": null,
   "id": "1ad89d42",
   "metadata": {},
   "outputs": [],
   "source": [
    "# Plot Graph to Display Spread of Annual Income Over Loan Status, understand outliers\n",
    "fig = go.Figure(data=go.Box(x=loan.loan_status, y=loan.annual_inc))\n",
    "fig.update_layout(title='Spread of Annual Income Across Various Loan Status', \n",
    "                  yaxis_title='Annual Income',\n",
    "                  xaxis_title='Loan Status',\n",
    "                  height = 1000,\n",
    "                  width = 700\n",
    "                  )\n",
    "fig.show()"
   ]
  },
  {
   "cell_type": "markdown",
   "id": "ab6aef8a",
   "metadata": {},
   "source": [
    "### Insight:\n",
    "- From the box plot and describe, we see that the annual income is widely spread. Annual income varies from 4K to 6M. We will reduce the data to a range that is helpful for analysis.\n",
    "- We will determine the percentile upto which data will be considered next. "
   ]
  },
  {
   "cell_type": "code",
   "execution_count": null,
   "id": "5aba7dbd",
   "metadata": {},
   "outputs": [],
   "source": [
    "#Check percentile for annual income \n",
    "\n",
    "print(\"85th percentile:\",np.percentile(loan.annual_inc,85))\n",
    "print(\"90th percentile:\",np.percentile(loan.annual_inc,90))\n",
    "print(\"95th percentile:\",np.percentile(loan.annual_inc,95))"
   ]
  },
  {
   "cell_type": "markdown",
   "id": "ff2e0ff8",
   "metadata": {},
   "source": [
    "### Insight:\n",
    "We see that 95% of people have a salary of 140k or below. We will consider income from minimum to 140k for our analysis."
   ]
  },
  {
   "cell_type": "code",
   "execution_count": null,
   "id": "cd3827e8",
   "metadata": {},
   "outputs": [],
   "source": [
    "# Applying filter in annual income\n",
    "# Plot a Histogram to Display Spread of Annual Income Over Loan Status\n",
    "\n",
    "fig = go.Figure(data=go.Histogram(x=loan.annual_inc[loan.annual_inc < 140000]))\n",
    "fig.update_layout(title='Distribution of Annual Income', \n",
    "                  xaxis_title='Annual Income', \n",
    "                  yaxis_title='Frequency',\n",
    "                  height = 700,\n",
    "                  xaxis=dict(showgrid=True),\n",
    "                  yaxis=dict(showgrid=True))\n",
    "\n",
    "fig.show()"
   ]
  },
  {
   "cell_type": "markdown",
   "id": "090b26b8",
   "metadata": {},
   "source": [
    "### Insight:\n",
    "- People with income between 40k to 60k seem to be taking the most loans. \n",
    "- As salary increases, people tend to take lesser loans.\n",
    "- Likewise, even people with lower salaries are taking lesser loans.\n",
    "- BIn the annual income for further analysis"
   ]
  },
  {
   "cell_type": "code",
   "execution_count": null,
   "id": "4918f265",
   "metadata": {},
   "outputs": [],
   "source": [
    "# Define the annual income bins similar to the bins taken by the box plot graph (majority is below 50000)\n",
    "bins = [0, 10000, 20000, 30000, 40000, 50000, 60000, 70000, 80000, 90000, 100000, \n",
    "        110000, 120000, 130000, 140000]\n",
    "\n",
    "# Create a new column 'annual_inc_bin' to categorize annual income into bins\n",
    "loan['annual_inc_bin'] = pd.cut(loan['annual_inc'], bins)\n",
    "\n",
    "#Plotly cannot handle category datatype, so convert to str in a new column for plotting graphs\n",
    "loan['annual_inc_bin_str'] = loan['annual_inc_bin'].astype(str)\n",
    "\n",
    "#Category array will be used as a variable in plotly graphs since string variables tend to get sorted while plotting.\n",
    "#Here, we are preserving the order\n",
    "annual_inc_cat_arr = ['(0, 10000]','(10000, 20000]','(20000, 30000]','(30000, 40000]',\n",
    "                      '(40000, 50000]','(50000, 60000]','(60000, 70000]','(70000, 80000]',\n",
    "                      '(80000, 90000]','(90000, 100000]','(100000, 110000]','(110000, 120000]',\n",
    "                      '(120000, 130000]','(130000, 140000]']\n",
    "\n",
    "#Redefine charged off and fully paid dataset since new column is added\n",
    "#Charged-off loans dataset\n",
    "loan_npaid = loan[loan.loan_status =='Charged Off']\n",
    "#Fully-paid loans dataset\n",
    "loan_fpaid = loan[loan.loan_status =='Fully Paid']\n",
    "\n",
    "#Charged-off loans dataset\n",
    "loan_annual_inc = loan[loan.annual_inc <= 140000]\n",
    "loan_annual_inc_npaid = loan_annual_inc[loan_annual_inc.loan_status =='Charged Off']\n",
    "\n",
    "# Count how many loans were charged off or fully paid in each annual income bin\n",
    "loan_annual_inc = loan[loan.annual_inc <= 140000]\n",
    "loan_count = loan_annual_inc.groupby(['annual_inc_bin_str', 'loan_status']).size().unstack()\n",
    "loan_count = loan_count.reset_index()\n",
    "loan_count['npaid_ratio'] = round((loan_count['Charged Off'] / (loan_count['Charged Off'] + loan_count['Fully Paid']))*100,2)\n",
    "loan_count['fpaid_ratio'] = round((loan_count['Fully Paid'] / (loan_count['Charged Off'] + loan_count['Fully Paid']))*100,2)\n",
    "\n",
    "fig = go.Figure()\n",
    "fig.add_trace(go.Bar(\n",
    "    x=loan_count.annual_inc_bin_str,\n",
    "    y=loan_count.npaid_ratio,\n",
    "    name='Charged-Off Loans',\n",
    "    offset=-0.2,\n",
    "    marker=dict(color='Red')\n",
    "))\n",
    "fig.add_trace(go.Bar(\n",
    "    x=loan_count.annual_inc_bin_str,\n",
    "    y=loan_count.fpaid_ratio,\n",
    "    name='Fully Paid Loans',\n",
    "    offset=0.2,\n",
    "    marker=dict(color='Green')\n",
    "))\n",
    "bar_width = 0.4\n",
    "fig.update_traces(width=bar_width)\n",
    "fig.update_layout(\n",
    "    title='Loan Status Across Various annual income Bins',\n",
    "    xaxis_title='Annual income Bins',\n",
    "    yaxis_title='Percentage of Annual income',\n",
    "    xaxis=dict(categoryorder='array', categoryarray=annual_inc_cat_arr),\n",
    "    barmode='group',\n",
    "    width = 900,\n",
    "    height = 700\n",
    ")\n",
    "fig.show()"
   ]
  },
  {
   "cell_type": "markdown",
   "id": "6245d369",
   "metadata": {},
   "source": [
    "### Insight:\n",
    "- As annual income increases, percentage of borrowers defaulting is reducing.\n",
    "- People with annual income > 60k default less than 15%."
   ]
  },
  {
   "cell_type": "markdown",
   "id": "289fff29",
   "metadata": {},
   "source": [
    "## L. Verification Status\n",
    "- Indicates that for the loan if borrowers income was verified by lending club\n",
    "- It can take below three values with corresponding detals:\n",
    "    - Verified - Income claimed by borrower is verfied by lending club\n",
    "    - Source Verified - Income Source is verified\n",
    "    - Not verified - Neither income, nor income source is verified"
   ]
  },
  {
   "cell_type": "code",
   "execution_count": null,
   "id": "d9f95207",
   "metadata": {},
   "outputs": [],
   "source": [
    "# Plot a Graph to Display the Number of Loans Across Verification Status\n",
    "verification_status_total = loan.verification_status.value_counts().sort_index()\n",
    "\n",
    "fig = go.Figure()\n",
    "fig.add_trace(go.Bar(\n",
    "    x=verification_status_total.index,\n",
    "    y=verification_status_total.values,\n",
    "    name='Verification Status',\n",
    "    marker=dict(color='Blue')\n",
    "))\n",
    "bar_width = 0.2\n",
    "fig.update_traces(width=bar_width)\n",
    "fig.update_layout(\n",
    "    title='Number of Loans Over Verification Status',\n",
    "    xaxis_title='Verification Status',\n",
    "    yaxis_title='Number of Loans'\n",
    ")\n",
    "fig.show()\n"
   ]
  },
  {
   "cell_type": "markdown",
   "id": "f76bc59c",
   "metadata": {},
   "source": [
    "### Insight:\n",
    "- About 40% of the loans are given without any verification while for the remaining 60%, either the income or the source of income is being verified.\n"
   ]
  },
  {
   "cell_type": "code",
   "execution_count": null,
   "id": "e48cbfe0",
   "metadata": {},
   "outputs": [],
   "source": [
    "# Plot a Graph to Display Percentage of Charged Off Loans Over Verification Status\n",
    "verification_status_npaid = loan_npaid.verification_status.value_counts().sort_index()\n",
    "verification_status_fpaid = loan_fpaid.verification_status.value_counts().sort_index()\n",
    "\n",
    "verification_status_npaid_per = (verification_status_npaid.values / verification_status_total.values)*100\n",
    "\n",
    "fig = go.Figure()\n",
    "fig.add_trace(go.Bar(\n",
    "    x=verification_status_total.index,\n",
    "    y=verification_status_npaid_per,\n",
    "    name='Verification Status',\n",
    "    marker=dict(color='Blue')\n",
    "))\n",
    "bar_width = 0.2\n",
    "fig.update_traces(width=bar_width)\n",
    "fig.update_layout(\n",
    "    title='Percentage of Charged Off Loans By Verification Status',\n",
    "    xaxis_title='Verification Status',\n",
    "    yaxis_title='Percentage of Charged Off Loans'\n",
    ")\n",
    "fig.show()\n",
    "\n",
    "#Line Chart to be added"
   ]
  },
  {
   "cell_type": "markdown",
   "id": "b0e569bc",
   "metadata": {},
   "source": [
    "### Insight:\n",
    "- The verification status does not have any considerable impact on loans being charged off.\n",
    "- In fact, the verified loans seem to be charged off at an average of 15% which is closer to the threshold value.\n",
    "- We can derive that the verification status of income of a borrower does not impact the payment of loans. "
   ]
  },
  {
   "cell_type": "markdown",
   "id": "f34cc2c5",
   "metadata": {},
   "source": [
    "## M. Issue Date\n",
    "- The month and year in which the loan was funded\n",
    "- The month of issue can be derived for analysis"
   ]
  },
  {
   "cell_type": "code",
   "execution_count": null,
   "id": "1538b12f",
   "metadata": {},
   "outputs": [],
   "source": [
    "# Derive month column from issue_d for further analysis\n",
    "loan.issue_d.value_counts().head()"
   ]
  },
  {
   "cell_type": "code",
   "execution_count": null,
   "id": "79bf23b2",
   "metadata": {},
   "outputs": [],
   "source": [
    "loan['issue_month'] = loan.issue_d.apply(lambda x: x[:3])\n",
    "#Charged-off loans dataset\n",
    "loan_npaid = loan[loan.loan_status =='Charged Off']\n",
    "#Fully-paid loans dataset\n",
    "loan_fpaid = loan[loan.loan_status =='Fully Paid']"
   ]
  },
  {
   "cell_type": "markdown",
   "id": "62e9ea05",
   "metadata": {},
   "source": [
    "### Insight:\n",
    "- When we do a value count, we see that we have data spread over a period of 5 years (2007 to 2011).\n",
    "- We derive month of issue in order to analyze if a particular month has had any impact on the payment of loans over the last five years.\n",
    "- There is no need to derive the year separately for analysis since all years are in the past and cannot be used to predict the future"
   ]
  },
  {
   "cell_type": "markdown",
   "id": "94ced21a",
   "metadata": {},
   "source": [
    "## Month of Issue of Loan"
   ]
  },
  {
   "cell_type": "code",
   "execution_count": null,
   "id": "e5edc52d",
   "metadata": {},
   "outputs": [],
   "source": [
    "# Plot a Graph to Display the Number of Loans Taken Across Various Months\n",
    "issue_month_total = loan.issue_month.value_counts().sort_index()\n",
    "issue_month_cat_arr = ['Jan','Feb','Mar','Apr','May','Jun','Jul','Aug','Sep','Oct','Nov','Dec']\n",
    "\n",
    "fig = go.Figure()\n",
    "fig.add_trace(go.Bar(\n",
    "    x=issue_month_total.index,\n",
    "    y=issue_month_total.values,\n",
    "    name='Month of Issue',\n",
    "    marker=dict(color='Blue')\n",
    "))\n",
    "bar_width = 0.2\n",
    "fig.update_traces(width=bar_width)\n",
    "fig.update_layout(\n",
    "    title='Number of Loans Taken Over Various Months',\n",
    "    xaxis_title='Month of Issue',\n",
    "    yaxis_title='Number of Loans',\n",
    "    xaxis=dict(categoryorder='array', categoryarray=issue_month_cat_arr),\n",
    ")\n",
    "fig.show()"
   ]
  },
  {
   "cell_type": "markdown",
   "id": "8ef6a71d",
   "metadata": {},
   "source": [
    "### Insight:\n",
    "- Maximum loans are taken in the months of November and December. One can guess that it is due to the holiday season (Black Friday Sale, Thanksgiving, Christmas) where expenditure is high.\n",
    "- The number of loans taken drops to almost half in January. One can guess it is due to the holiday season that has come to an end already."
   ]
  },
  {
   "cell_type": "code",
   "execution_count": null,
   "id": "9db0211b",
   "metadata": {},
   "outputs": [],
   "source": [
    "# Plot a Graph to Display Percentage of Charged Off Loans Over Month of Issue\n",
    "issue_month_npaid = loan_npaid.issue_month.value_counts().sort_index()\n",
    "\n",
    "issue_month_npaid_per = (issue_month_npaid.values / issue_month_total.values)*100\n",
    "\n",
    "fig = go.Figure()\n",
    "fig.add_trace(go.Bar(\n",
    "    x=issue_month_total.index,\n",
    "    y=issue_month_npaid_per,\n",
    "    name='Month of Issue',\n",
    "    marker=dict(color='Blue')\n",
    "))\n",
    "bar_width = 0.2\n",
    "fig.update_traces(width=bar_width)\n",
    "fig.update_layout(\n",
    "    title='Percentage of Charged Off Loans By Month of Issue',\n",
    "    xaxis_title='Month of Issue',\n",
    "    yaxis_title='Percentage of Charged Off Loans',\n",
    "    xaxis=dict(categoryorder='array', categoryarray=issue_month_cat_arr),\n",
    ")\n",
    "fig.show()"
   ]
  },
  {
   "cell_type": "markdown",
   "id": "dd293cb3",
   "metadata": {},
   "source": [
    "### Insight:\n",
    "- The month of issue of loan is not paying a significant role on the repayment of loans. "
   ]
  },
  {
   "cell_type": "markdown",
   "id": "b0a14d34",
   "metadata": {},
   "source": [
    "## N. Loan Purpose\n",
    "- Indicates the purpose for which laon was applied\n",
    "- Some of the categories are debt consolidation, credit card, small business, housing, vacation etc."
   ]
  },
  {
   "cell_type": "code",
   "execution_count": null,
   "id": "16d3e9fa",
   "metadata": {},
   "outputs": [],
   "source": [
    "# Plot a Graph to Display the Number of Loans Taken For Various Purposes\n",
    "purpose_total = (loan.purpose.value_counts()).sort_index()\n",
    "\n",
    "fig = go.Figure()\n",
    "fig.add_trace(go.Bar(\n",
    "    x=purpose_total.index,\n",
    "    y=purpose_total.values,\n",
    "    name='Loan Purpose',\n",
    "    marker=dict(color='Blue')\n",
    "))\n",
    "bar_width = 0.2\n",
    "fig.update_traces(width=bar_width)\n",
    "fig.update_layout(\n",
    "    title='Number of Loans Taken For Various Purposes',\n",
    "    xaxis_title='Loan Purpose',\n",
    "    yaxis_title='Number of Loans'\n",
    ")\n",
    "fig.show()"
   ]
  },
  {
   "cell_type": "markdown",
   "id": "c588d446",
   "metadata": {},
   "source": [
    "### Insight:\n",
    "- Nearly 50% of the loans are given for debt consolidation followed by credit card purposes."
   ]
  },
  {
   "cell_type": "code",
   "execution_count": null,
   "id": "b52bfcbc",
   "metadata": {},
   "outputs": [],
   "source": [
    "purpose_npaid = loan_npaid.purpose.value_counts().sort_index()\n",
    "purpose_npaid_per = (purpose_npaid.values / purpose_total.values)*100\n",
    "\n",
    "fig = go.Figure()\n",
    "fig.add_trace(go.Bar(\n",
    "    x=purpose_total.index,\n",
    "    y=purpose_npaid_per,\n",
    "    name='Charged Off Loans',\n",
    "    marker=dict(color='Blue')\n",
    "))\n",
    "bar_width = 0.2\n",
    "fig.update_traces(width=bar_width)\n",
    "fig.update_layout(\n",
    "    title='Variation in Charged of Loans Across Various Loan Purposes',\n",
    "    xaxis_title='Purpose of Loan',\n",
    "    yaxis_title='Percentage of Charged Off Loans'\n",
    ")\n",
    "fig.show()"
   ]
  },
  {
   "cell_type": "markdown",
   "id": "f3387029",
   "metadata": {},
   "source": [
    "### Insight:\n",
    "- 26.7% of all small business borrowers are being charged off, followed closely by renewable energy and educational loans.\n",
    "- Major purchase, wedding and credit card loans are being paid off the most."
   ]
  },
  {
   "cell_type": "markdown",
   "id": "e8fc1e30",
   "metadata": {},
   "source": [
    "## O. Zip Code\n",
    "- The first 3 numbers out of the 5 digits of the zip code provided by the borrower in the loan application."
   ]
  },
  {
   "cell_type": "code",
   "execution_count": null,
   "id": "10192d00",
   "metadata": {},
   "outputs": [],
   "source": [
    "# Zip Code has 805 unique values\n",
    "loan.zip_code.nunique()"
   ]
  },
  {
   "cell_type": "code",
   "execution_count": null,
   "id": "32adfa3e",
   "metadata": {},
   "outputs": [],
   "source": [
    "loan.zip_code.head()"
   ]
  },
  {
   "cell_type": "markdown",
   "id": "4f424c5b",
   "metadata": {},
   "source": [
    "### Insight:\n",
    "- It can be seen that the entire 5-digits of the zip code is not visible. \n",
    "- The first three digits can correspond to the US state. For example, 309xx belongs to Augusta in Georgia.\n",
    "- Since we have the state information in addr_state column, we will ignore the zip_code metric for analysis."
   ]
  },
  {
   "cell_type": "markdown",
   "id": "7bd43515",
   "metadata": {},
   "source": [
    "## P. State\n",
    "- The state provided by the borrower in the loan application"
   ]
  },
  {
   "cell_type": "code",
   "execution_count": null,
   "id": "dafe3f8d",
   "metadata": {},
   "outputs": [],
   "source": [
    "loan.addr_state.nunique()"
   ]
  },
  {
   "cell_type": "code",
   "execution_count": null,
   "id": "cac44e2b",
   "metadata": {},
   "outputs": [],
   "source": [
    "# Plot a Graph to Display the Number of Loans Taken in Various States\n",
    "addr_state_total = (loan.addr_state.value_counts()).sort_index()\n",
    "\n",
    "fig = go.Figure()\n",
    "fig.add_trace(go.Bar(\n",
    "    x=addr_state_total.index,\n",
    "    y=addr_state_total.values,\n",
    "    name='State',\n",
    "    marker=dict(color='Blue')\n",
    "))\n",
    "bar_width = 0.2\n",
    "fig.update_traces(width=bar_width)\n",
    "fig.update_layout(\n",
    "    title='Number of Loans Taken in Various States',\n",
    "    xaxis_title='State',\n",
    "    yaxis_title='Number of Loans'\n",
    ")\n",
    "fig.show()"
   ]
  },
  {
   "cell_type": "markdown",
   "id": "0254b670",
   "metadata": {},
   "source": [
    "### Insight:\n",
    "- The state of CA has the highest number of loans of 6419 which is close to 20% of all loans.\n",
    "- The next state with high number of loans is NY.\n",
    "- Most states have less than 1000 loans.\n"
   ]
  },
  {
   "cell_type": "code",
   "execution_count": null,
   "id": "273d4bcd",
   "metadata": {},
   "outputs": [],
   "source": [
    "addr_state_npaid = loan_npaid.addr_state.value_counts().sort_index()\n",
    "print(\"Total Number of States:\",addr_state_total.nunique())\n",
    "print(\"Total Number of States Where Loans Were Charged Off:\",addr_state_npaid.nunique())"
   ]
  },
  {
   "cell_type": "markdown",
   "id": "2eb67358",
   "metadata": {},
   "source": [
    "### Insight:\n",
    "We can see that there are 4 states that do not have charged off loans.\n",
    "We will remove those states to calculate the percentage of charged off loans in the other states."
   ]
  },
  {
   "cell_type": "code",
   "execution_count": null,
   "id": "af0e5845",
   "metadata": {},
   "outputs": [],
   "source": [
    "#Create 2 dataframes, one for total, one for charged off.\n",
    "#Merge them to get the common state records\n",
    "st_df = pd.DataFrame({'state':addr_state_total.index, 'loan_count':addr_state_total.values})\n",
    "st_npaid_df = pd.DataFrame({'state':addr_state_npaid.index, 'loan_npaid_count':addr_state_npaid.values})\n",
    "merged_st_df = pd.merge(st_df, st_npaid_df, on='state', how='inner')\n",
    "\n",
    "merged_st_df.describe()"
   ]
  },
  {
   "cell_type": "markdown",
   "id": "14a8fa13",
   "metadata": {},
   "source": [
    "### Insight:\n",
    "- We see that the loan_count is right skewed (mean >> std), this means we have more number of loans that are more than 788.\n",
    "- It will be helpful to exclude states that have taken very few loans in order to have an unbiased anaysis. We take the top 75% states and perform analysis."
   ]
  },
  {
   "cell_type": "code",
   "execution_count": null,
   "id": "b36f446f",
   "metadata": {},
   "outputs": [],
   "source": [
    "merged_st_df = merged_st_df.nlargest(35, 'loan_count')\n"
   ]
  },
  {
   "cell_type": "code",
   "execution_count": null,
   "id": "81eeeacd",
   "metadata": {},
   "outputs": [],
   "source": [
    "# Plot a Graph to Display Percentage of Charged Off Loans Across States\n",
    "\n",
    "addr_state_npaid_per = ( merged_st_df.loan_npaid_count / merged_st_df.loan_count ) *100\n",
    "\n",
    "fig = go.Figure()\n",
    "fig.add_trace(go.Bar(\n",
    "    x=merged_st_df.state,\n",
    "    y=addr_state_npaid_per,\n",
    "    name='State',\n",
    "    marker=dict(color='Blue')\n",
    "))\n",
    "bar_width = 0.2\n",
    "fig.update_traces(width=bar_width)\n",
    "fig.update_layout(\n",
    "    title='Variation in Charged off Loans Across States',\n",
    "    xaxis_title='State',\n",
    "    yaxis_title='Percentage of Charged Off Loans'\n",
    ")\n",
    "fig.show()"
   ]
  },
  {
   "cell_type": "markdown",
   "id": "276c6ce9",
   "metadata": {},
   "source": [
    "### Insight:\n",
    "- NV, FL, NM default more. \n",
    "- State of issue of loan does not have a considerable impact on the percentage of charged off loans\n"
   ]
  },
  {
   "cell_type": "markdown",
   "id": "2daf7ea3",
   "metadata": {},
   "source": [
    "## Q.DTI\n",
    "- A ratio calculated using the borrower’s total monthly debt payments on the total debt obligations, excluding mortgage and the requested LC loan, divided by the borrower’s self-reported monthly income\n",
    "- Higher dti corresponds to high risk loans."
   ]
  },
  {
   "cell_type": "code",
   "execution_count": null,
   "id": "f2757c15",
   "metadata": {},
   "outputs": [],
   "source": [
    "# Plot Graph to Display Spread of DTI Over Loan Status, understand outliers\n",
    "fig = go.Figure(data=go.Box(x=loan.loan_status, y=loan.dti))\n",
    "fig.update_layout(title='Spread of DTI Across Various Loan Status', \n",
    "                  yaxis_title='DTI',\n",
    "                  xaxis_title='Loan Status',\n",
    "                  height = 1000,\n",
    "                  width = 700\n",
    "                  )\n",
    "fig.show()"
   ]
  },
  {
   "cell_type": "markdown",
   "id": "d8310dfb",
   "metadata": {},
   "source": [
    "### Insight:\n",
    "- Charged Off Loans are right skewed; i.e., higher the DTI, higher the number of charged off loans with a median dti of 14.41."
   ]
  },
  {
   "cell_type": "code",
   "execution_count": null,
   "id": "caebc6ca",
   "metadata": {},
   "outputs": [],
   "source": [
    "# Plot a Histogram to Display Spread of DTI Over Loan Status\n",
    "\n",
    "fig = go.Figure(data=go.Histogram(x=loan.dti))\n",
    "fig.update_layout(title='Distribution of DTI', \n",
    "                  xaxis_title='DTI', \n",
    "                  yaxis_title='Frequency',\n",
    "                  height = 700,\n",
    "                  xaxis=dict(showgrid=True),\n",
    "                  yaxis=dict(showgrid=True))\n",
    "\n",
    "fig.show()"
   ]
  },
  {
   "cell_type": "markdown",
   "id": "197232f8",
   "metadata": {},
   "source": [
    "### Insight:\n",
    "- Similar to the box plot, we can see that more number of loans are obtained for a DTI between 12 and 15.\n",
    "- DTI values range from 0 to 30."
   ]
  },
  {
   "cell_type": "code",
   "execution_count": null,
   "id": "af8fa21a",
   "metadata": {},
   "outputs": [],
   "source": [
    "# Plot a Graph to Display Percentage of Charged Off Loans Over DTI.\n",
    "# Since DTI is a Numeric Variable, we will bucket it first.\n",
    "\n",
    "loan['dti_bin'] = round(loan.dti)\n",
    "loan_npaid = loan[loan.loan_status =='Charged Off']\n",
    "\n",
    "dti_npaid = loan_npaid.dti_bin.value_counts().sort_index()\n",
    "dti_total = loan.dti_bin.value_counts().sort_index()\n",
    "dti_npaid_per = (dti_npaid.values / dti_total.values)*100\n",
    "\n",
    "fig = go.Figure()\n",
    "fig.add_trace(go.Bar(\n",
    "    x=dti_total.index,\n",
    "    y=dti_npaid_per,\n",
    "    name='DTI',\n",
    "    marker=dict(color='Blue')\n",
    "))\n",
    "bar_width = 0.2\n",
    "fig.update_traces(width=bar_width)\n",
    "fig.update_layout(\n",
    "    title='Variation in Debtors Over DTI',\n",
    "    xaxis_title='DTI',\n",
    "    yaxis_title='Percentage of Charged Off Loans',\n",
    ")\n",
    "fig.show()"
   ]
  },
  {
   "cell_type": "markdown",
   "id": "403a551e",
   "metadata": {},
   "source": [
    "### Insight:\n",
    "- Over 15% loans are being charged off for dti over 15(high risk loans) which is higher than our set threshold value for analysis.\n",
    "- A downward curve is seen for lower dti and an upward curve is visible for higher dti which confirms that at high dti, risk of charging off is more."
   ]
  },
  {
   "cell_type": "markdown",
   "id": "23bf187e",
   "metadata": {},
   "source": [
    "## R. Public Record Bankruptcies\n",
    "- Number of public record of previous bankruptcies\n",
    "- numeric (0,1,2)\n"
   ]
  },
  {
   "cell_type": "code",
   "execution_count": null,
   "id": "0af9091e",
   "metadata": {},
   "outputs": [],
   "source": [
    "loan.pub_rec_bankruptcies.value_counts()"
   ]
  },
  {
   "cell_type": "code",
   "execution_count": null,
   "id": "b07a3132",
   "metadata": {},
   "outputs": [],
   "source": [
    "loan['pub_rec_bankruptcies_str'] = loan.pub_rec_bankruptcies.astype('str')\n",
    "loan_npaid = loan[loan.loan_status =='Charged Off']"
   ]
  },
  {
   "cell_type": "code",
   "execution_count": null,
   "id": "cff62e43",
   "metadata": {},
   "outputs": [],
   "source": [
    "# Plot a Graph to Display the Number of Loans Taken if Bankruptcy Record Exists\n",
    "\n",
    "pub_rec_bankruptcies_total = (loan.pub_rec_bankruptcies_str.value_counts()).sort_index()\n",
    "\n",
    "fig = go.Figure()\n",
    "fig.add_trace(go.Bar(\n",
    "    x=pub_rec_bankruptcies_total.index,\n",
    "    y=pub_rec_bankruptcies_total.values,\n",
    "    name='Record of Bankruptcies',\n",
    "    marker=dict(color='Blue')\n",
    "))\n",
    "bar_width = 0.2\n",
    "fig.update_traces(width=bar_width)\n",
    "fig.update_layout(\n",
    "    title='Number of Loans Taken if Bankruptcy Record Exists',\n",
    "    xaxis_title='Record of Bankruptcies',\n",
    "    yaxis_title='Number of Loans'\n",
    ")\n",
    "fig.show()"
   ]
  },
  {
   "cell_type": "markdown",
   "id": "90723731",
   "metadata": {},
   "source": [
    "### Insight:\n",
    "- Borrowers with no record of bankruptcy are given more loans.\n",
    "- The bar chart is not very clear but the value counts above shows that there are 5 records of borrowers with 2 bankruptcy records."
   ]
  },
  {
   "cell_type": "code",
   "execution_count": null,
   "id": "e6707d3f",
   "metadata": {},
   "outputs": [],
   "source": [
    "# Plot a Graph to Display the Percentage of Charged Off Loans if Bankruptcy Record Exists\n",
    "\n",
    "pub_rec_bankruptcies_npaid = loan_npaid.pub_rec_bankruptcies_str.value_counts().sort_index()\n",
    "pub_rec_bankruptcies_npaid_per = (pub_rec_bankruptcies_npaid.values / pub_rec_bankruptcies_total.values)*100\n",
    "\n",
    "fig = go.Figure()\n",
    "fig.add_trace(go.Bar(\n",
    "    x=pub_rec_bankruptcies_total.index,\n",
    "    y=pub_rec_bankruptcies_npaid_per,\n",
    "    name='Charged Off Loans',\n",
    "    marker=dict(color='Blue')\n",
    "))\n",
    "bar_width = 0.2\n",
    "fig.update_traces(width=bar_width)\n",
    "fig.update_layout(\n",
    "    title='Variation in Charged off Loans if Bankruptcy Record Exists',\n",
    "    xaxis_title='Bankruptcy Record Exists',\n",
    "    yaxis_title='Percentage of Charged Off Loans'\n",
    ")\n",
    "fig.show()"
   ]
  },
  {
   "cell_type": "markdown",
   "id": "390dcb47",
   "metadata": {},
   "source": [
    "### Insight:\n",
    "- People with prior record of bankruptcy tend to charge off again"
   ]
  },
  {
   "cell_type": "markdown",
   "id": "bf8f5eed",
   "metadata": {},
   "source": [
    "# 5. Bivariate Analysis"
   ]
  },
  {
   "cell_type": "markdown",
   "id": "dd5e5c82",
   "metadata": {},
   "source": [
    "# Correlation Matrix for Numeric Variables"
   ]
  },
  {
   "cell_type": "code",
   "execution_count": null,
   "id": "3e02238b",
   "metadata": {
    "scrolled": true
   },
   "outputs": [],
   "source": [
    "res = loan_npaid.corr(numeric_only = True)\n",
    "res.index = res.index.astype(str)\n",
    "fig = go.Figure(data=go.Heatmap(x=res.columns, y=res.index, z=res.values, colorscale='Blues'))\n",
    "\n",
    "fig.update_layout(\n",
    "    title='Correlation between different numeric values')\n",
    "# Display the chart\n",
    "fig.show()"
   ]
  },
  {
   "cell_type": "markdown",
   "id": "57743c51",
   "metadata": {},
   "source": [
    "### Insight:\n",
    "- Loan amount, funded amount, funded amount invested, installment are highly correlated. \n",
    "- Therefore, we can consider only one of these variables in our multivarate analysis with other metrics."
   ]
  },
  {
   "cell_type": "markdown",
   "id": "89d401b0",
   "metadata": {},
   "source": [
    "## Loan Amount Vs Loan Term"
   ]
  },
  {
   "cell_type": "code",
   "execution_count": null,
   "id": "bd260f83",
   "metadata": {},
   "outputs": [],
   "source": [
    "# Plot Graph to Display Spread of Loan Amount Over Loan Term\n",
    "fig = go.Figure(data=go.Box(x=loan_npaid.term, y=loan_npaid.loan_amnt))\n",
    "fig.update_layout(title='Spread of Loan Amount Across Various Loan Terms', \n",
    "                  yaxis_title='Loan Amount',\n",
    "                  xaxis=dict(title='Loan Term', categoryorder='category ascending'),\n",
    "                  height = 1000,\n",
    "                  width = 700\n",
    "                  )\n",
    "fig.show()"
   ]
  },
  {
   "cell_type": "code",
   "execution_count": null,
   "id": "ab5048db",
   "metadata": {},
   "outputs": [],
   "source": [
    "loan_count = loan.groupby(['term', 'loan_amnt_bin', 'loan_status']).size().unstack()\n",
    "loan_count = loan_count.reset_index()\n",
    "loan_count['npaid_ratio'] = round((loan_count['Charged Off'] / (loan_count['Charged Off'] + loan_count['Fully Paid']))*100,2)\n",
    "pvt = pd.pivot_table(data=loan_count, index=\"loan_amnt_bin\", columns=\"term\", values=\"npaid_ratio\")\n",
    "fig = go.Figure()\n",
    "\n",
    "fig.add_trace(go.Scatter(\n",
    "    x=loan_amnt_cat_arr,\n",
    "    y=pvt[' 36 months'],\n",
    "    mode='lines',\n",
    "    name='36 months')\n",
    ")\n",
    "\n",
    "fig.add_trace(go.Scatter(\n",
    "    x=loan_amnt_cat_arr,\n",
    "    y=pvt[' 60 months'],\n",
    "    mode='lines',\n",
    "    name='60 months')\n",
    ")\n",
    "\n",
    "fig.update_layout(\n",
    "    title='Spread of Charged Off Loan Amounts Over Loan Term',\n",
    "    xaxis=dict(title='Loan Amount',categoryorder='array', categoryarray=loan_amnt_cat_arr),\n",
    "    yaxis=dict(title='Percentage of Charged Off Loans')\n",
    ")\n",
    "\n",
    "fig.show()"
   ]
  },
  {
   "cell_type": "markdown",
   "id": "3caf2132",
   "metadata": {},
   "source": [
    "### Insight:\n",
    "- From univariate analysis, we know that 60 month loans are charged off more. This graph further stresses the same point.\n",
    "- The graph shows that long term loans of larger loan amounts (>15000) charge off over 25% which is a cause for concern."
   ]
  },
  {
   "cell_type": "markdown",
   "id": "c5c06fe9",
   "metadata": {},
   "source": [
    "## Loan Amount Vs Interest Rate"
   ]
  },
  {
   "cell_type": "code",
   "execution_count": null,
   "id": "9a63228e",
   "metadata": {},
   "outputs": [],
   "source": [
    "# Create a scatter plot\n",
    "fig = go.Figure(data=go.Scatter(x=loan_npaid.int_rate, y=loan_npaid.loan_amnt, mode='markers'))\n",
    "\n",
    "# Update layout\n",
    "fig.update_layout(\n",
    "    title='Spread of Loan Amount Over Interest Rate',\n",
    "    xaxis=dict(title='Interest Rate'),\n",
    "    yaxis=dict(title='Loan Amount')\n",
    ")\n",
    "\n",
    "# Show the plot\n",
    "fig.show()\n"
   ]
  },
  {
   "cell_type": "code",
   "execution_count": null,
   "id": "f722856a",
   "metadata": {},
   "outputs": [],
   "source": [
    "loan_count = loan.groupby(['loan_amnt_bin_str', 'int_rate_bin', 'loan_status']).size().unstack()\n",
    "loan_count = loan_count.reset_index()\n",
    "loan_count['npaid_ratio'] = round((loan_count['Charged Off'] / (loan_count['Charged Off'] + loan_count['Fully Paid']))*100,2)\n",
    "pvt = pd.pivot_table(data=loan_count, index=\"loan_amnt_bin_str\", columns=\"int_rate_bin\", values=\"npaid_ratio\")\n",
    "\n",
    "row_labels = pvt.index.get_level_values(\"loan_amnt_bin_str\")\n",
    "column_labels = pvt.columns.get_level_values(\"int_rate_bin\")\n",
    "\n",
    "# Create the heatmap trace\n",
    "heatmap = go.Heatmap(\n",
    "    x=column_labels,\n",
    "    y=row_labels,\n",
    "    z=pvt.values,\n",
    "    colorscale='Blues' \n",
    ")\n",
    "\n",
    "layout = go.Layout(\n",
    "    title=\"Spread of Charged Off Loan Amounts Over Interest Rate\",\n",
    "    xaxis=dict(title=\"Interest Rate\"),\n",
    "    yaxis=dict(title='Percentage of Charged Off Loan Amounts',categoryorder='array', categoryarray=loan_amnt_cat_arr)\n",
    ")\n",
    "\n",
    "fig = go.Figure(data=[heatmap], layout=layout)\n",
    "\n",
    "fig.show()"
   ]
  },
  {
   "cell_type": "markdown",
   "id": "0f856e10",
   "metadata": {},
   "source": [
    "### Insight:\n",
    "- The number of loans with with interest rate greater than 15% is charging off more across all loan amount bins."
   ]
  },
  {
   "cell_type": "markdown",
   "id": "44ab639d",
   "metadata": {},
   "source": [
    "## Loan Amnt Vs Installment Amnt"
   ]
  },
  {
   "cell_type": "code",
   "execution_count": null,
   "id": "c0d36b0a",
   "metadata": {},
   "outputs": [],
   "source": [
    "# Create a scatter plot\n",
    "fig = go.Figure(data=go.Scatter(x=loan_npaid.installment, y=loan_npaid.loan_amnt, mode='markers'))\n",
    "\n",
    "# Update layout\n",
    "fig.update_layout(\n",
    "    title='Distribution of Loan Amount Vs Installment Amounts',\n",
    "    xaxis=dict(title='Installment Amount'),\n",
    "    yaxis=dict(title='Loan Amount')\n",
    ")\n",
    "\n",
    "# Show the plot\n",
    "fig.show()"
   ]
  },
  {
   "cell_type": "markdown",
   "id": "f95ad132",
   "metadata": {},
   "source": [
    "### Insight:\n",
    "Larger loan amounts have larger installment amounts, highly correlated. So installment amount can be left out for further analysis."
   ]
  },
  {
   "cell_type": "markdown",
   "id": "3bb80868",
   "metadata": {},
   "source": [
    "## Loan Amount Vs  Grade"
   ]
  },
  {
   "cell_type": "code",
   "execution_count": null,
   "id": "5541f84d",
   "metadata": {},
   "outputs": [],
   "source": [
    "fig = go.Figure(data=go.Box(x=loan_npaid.grade, y=loan_npaid.loan_amnt))\n",
    "fig.update_layout(title='Spread of Loan Amount Across Various Grades', \n",
    "                  yaxis_title='Loan Amount',\n",
    "                  xaxis=dict(title='Loan Grade', categoryorder='category ascending'),\n",
    "                  height = 1000,\n",
    "                  width = 700\n",
    "                  )\n",
    "fig.show()"
   ]
  },
  {
   "cell_type": "code",
   "execution_count": null,
   "id": "fadc0710",
   "metadata": {},
   "outputs": [],
   "source": [
    "loan_count = loan.groupby(['loan_amnt_bin_str', 'grade', 'loan_status']).size().unstack()\n",
    "loan_count = loan_count.reset_index()\n",
    "loan_count['npaid_ratio'] = round((loan_count['Charged Off'] / (loan_count['Charged Off'] + loan_count['Fully Paid']))*100,2)\n",
    "\n",
    "pvt = pd.pivot_table(data=loan_count, index=\"loan_amnt_bin_str\", columns=\"grade\", values=\"npaid_ratio\")\n",
    "\n",
    "row_labels = pvt.index.get_level_values(\"loan_amnt_bin_str\")\n",
    "column_labels = pvt.columns.get_level_values(\"grade\")\n",
    "\n",
    "# Create the heatmap trace\n",
    "heatmap = go.Heatmap(\n",
    "    x=column_labels,\n",
    "    y=row_labels,\n",
    "    z=pvt.values,\n",
    "    colorscale='Blues'  \n",
    ")\n",
    "layout = go.Layout(\n",
    "    title=\"Spread of Charged Off Loan Amounts Over Loan Grades\",\n",
    "    xaxis=dict(title=\"Grades\"),\n",
    "    yaxis=dict(title='Percentage of Charged Off Loan Amounts',categoryorder='array', categoryarray=loan_amnt_cat_arr)\n",
    ")\n",
    "fig = go.Figure(data=[heatmap], layout=layout)\n",
    "fig.show()"
   ]
  },
  {
   "cell_type": "markdown",
   "id": "4d0ca73d",
   "metadata": {},
   "source": [
    "### Insight:\n",
    "Higher loan amounts at e,f,g charge-off more. Confirms univariate for both the variables"
   ]
  },
  {
   "cell_type": "markdown",
   "id": "02d2cb02",
   "metadata": {},
   "source": [
    "## Loan Amount Vs Sub Grade"
   ]
  },
  {
   "cell_type": "code",
   "execution_count": null,
   "id": "8040b392",
   "metadata": {},
   "outputs": [],
   "source": [
    "fig = go.Figure(data=go.Box(x=loan_npaid.sub_grade, y=loan_npaid.loan_amnt))\n",
    "fig.update_layout(title='Spread of Loan Amount Across Various Sub Grades', \n",
    "                  yaxis_title='Loan Amount',\n",
    "                  xaxis=dict(title='Loan Sub Grade', categoryorder='category ascending'),\n",
    "                  height = 1000,\n",
    "                  width = 700\n",
    "                  )\n",
    "fig.show()"
   ]
  },
  {
   "cell_type": "code",
   "execution_count": null,
   "id": "3f67264f",
   "metadata": {},
   "outputs": [],
   "source": [
    "loan_count = loan.groupby(['loan_amnt_bin_str', 'sub_grade', 'loan_status']).size().unstack()\n",
    "loan_count = loan_count.reset_index()\n",
    "loan_count['npaid_ratio'] = round((loan_count['Charged Off'] / (loan_count['Charged Off'] + loan_count['Fully Paid']))*100,2)\n",
    "\n",
    "pvt = pd.pivot_table(data=loan_count, index=\"loan_amnt_bin_str\", columns=\"sub_grade\", values=\"npaid_ratio\")\n",
    "\n",
    "row_labels = pvt.index.get_level_values(\"loan_amnt_bin_str\")\n",
    "column_labels = pvt.columns.get_level_values(\"sub_grade\")\n",
    "\n",
    "# Create the heatmap trace\n",
    "heatmap = go.Heatmap(\n",
    "    x=column_labels,\n",
    "    y=row_labels,\n",
    "    z=pvt.values,\n",
    "    colorscale='Blues'  \n",
    ")\n",
    "layout = go.Layout(\n",
    "    title=\"Spread of Charged Off Loan Amounts Over Loan Sub Grades\",\n",
    "    xaxis=dict(title=\"Sub Grades\"),\n",
    "    yaxis=dict(title='Percentage of Charged Off Loan Amounts',categoryorder='array', categoryarray=loan_amnt_cat_arr)\n",
    ")\n",
    "fig = go.Figure(data=[heatmap], layout=layout)\n",
    "fig.show()"
   ]
  },
  {
   "cell_type": "markdown",
   "id": "94187930",
   "metadata": {},
   "source": [
    "### Insight:\n",
    "- For smaller loan amounts, charge off happens at higher risk grades.\n",
    "- As loan amount increases, charge off is happening starting from relatively lower risk grade.\n",
    "- Across all loan amounts, however, charge off at high risk grades (F, G) is more."
   ]
  },
  {
   "cell_type": "markdown",
   "id": "dd6e26b2",
   "metadata": {},
   "source": [
    "## Loan Amount Vs Home Ownership"
   ]
  },
  {
   "cell_type": "code",
   "execution_count": null,
   "id": "1322e30c",
   "metadata": {},
   "outputs": [],
   "source": [
    "fig = go.Figure(data=go.Box(x=loan_npaid.home_ownership, y=loan_npaid.loan_amnt))\n",
    "fig.update_layout(title='Spread of Loan Amount Across Various Home Ownership Categories', \n",
    "                  yaxis_title='Loan Amount',\n",
    "                  xaxis=dict(title='Home Ownership Category', categoryorder='category ascending'),\n",
    "                  height = 1000,\n",
    "                  width = 700\n",
    "                  )\n",
    "fig.show()"
   ]
  },
  {
   "cell_type": "code",
   "execution_count": null,
   "id": "5725ccfe",
   "metadata": {},
   "outputs": [],
   "source": [
    "loan_count = loan.groupby(['home_ownership', 'loan_amnt_bin', 'loan_status']).size().unstack()\n",
    "loan_count = loan_count.reset_index()\n",
    "loan_count['npaid_ratio'] = round((loan_count['Charged Off'] / (loan_count['Charged Off'] + loan_count['Fully Paid']))*100,2)\n",
    "pvt = pd.pivot_table(data=loan_count, index=\"loan_amnt_bin\", columns=\"home_ownership\", values=\"npaid_ratio\")\n",
    "fig = go.Figure()\n",
    "\n",
    "fig.add_trace(go.Scatter(\n",
    "    x=loan_amnt_cat_arr,\n",
    "    y=pvt['MORTGAGE'],\n",
    "    mode='lines',\n",
    "    name='Mortgage')\n",
    ")\n",
    "\n",
    "fig.add_trace(go.Scatter(\n",
    "    x=loan_amnt_cat_arr,\n",
    "    y=pvt['OWN'],\n",
    "    mode='lines',\n",
    "    name='Own')\n",
    ")\n",
    "\n",
    "fig.add_trace(go.Scatter(\n",
    "    x=loan_amnt_cat_arr,\n",
    "    y=pvt['RENT'],\n",
    "    mode='lines',\n",
    "    name='Rent')\n",
    ")\n",
    "\n",
    "fig.update_layout(\n",
    "    title='Spread of Charged Off Loan Amounts Over Home Onwership category',\n",
    "    xaxis=dict(title='Loan Amount',categoryorder='array', categoryarray=loan_amnt_cat_arr),\n",
    "    yaxis=dict(title='Percentage of Charged Off Loans')\n",
    ")\n",
    "\n",
    "fig.show()"
   ]
  },
  {
   "cell_type": "markdown",
   "id": "828a7e12",
   "metadata": {},
   "source": [
    "### Insight:\n",
    "- Home Ownership Category has no impact on loan amount."
   ]
  },
  {
   "cell_type": "markdown",
   "id": "44dc189f",
   "metadata": {},
   "source": [
    "## Loan Amount Vs Annual Income"
   ]
  },
  {
   "cell_type": "code",
   "execution_count": null,
   "id": "deab6350",
   "metadata": {},
   "outputs": [],
   "source": [
    "# Create a scatter plot\n",
    "fig = go.Figure(data=go.Scatter(x=loan_npaid.annual_inc[loan_npaid.annual_inc < 140000], \n",
    "                                y=loan_npaid.loan_amnt, mode='markers'))\n",
    "\n",
    "# Update layout\n",
    "fig.update_layout(\n",
    "    title='Distribution of Loan Amount Vs Annual Income',\n",
    "    xaxis=dict(title='Annual Income'),\n",
    "    yaxis=dict(title='Loan Amount')\n",
    ")\n",
    "\n",
    "# Show the plot\n",
    "fig.show()"
   ]
  },
  {
   "cell_type": "code",
   "execution_count": null,
   "id": "a4830811",
   "metadata": {},
   "outputs": [],
   "source": [
    "loan_annual_inc = loan[loan.annual_inc <= 140000]\n",
    "loan_count = loan_annual_inc.groupby(['loan_amnt_bin_str', 'annual_inc_bin_str', 'loan_status']).size().unstack()\n",
    "loan_count = loan_count.reset_index()\n",
    "loan_count['npaid_ratio'] = round((loan_count['Charged Off'] / (loan_count['Charged Off'] + loan_count['Fully Paid']))*100,2)\n",
    "pvt = pd.pivot_table(data=loan_count, index=\"loan_amnt_bin_str\", columns=\"annual_inc_bin_str\", values=\"npaid_ratio\")\n",
    "\n",
    "row_labels = pvt.index.get_level_values(\"loan_amnt_bin_str\")\n",
    "column_labels = pvt.columns.get_level_values(\"annual_inc_bin_str\")\n",
    "\n",
    "# Create the heatmap trace\n",
    "heatmap = go.Heatmap(\n",
    "    x=column_labels,\n",
    "    y=row_labels,\n",
    "    z=pvt.values,\n",
    "    colorscale='Blues' \n",
    ")\n",
    "\n",
    "layout = go.Layout(\n",
    "    title=\"Spread of Charged Off Loan Amounts Over Annual Income\",\n",
    "    xaxis=dict(title=\"Annual Income\",categoryorder='array', categoryarray=annual_inc_cat_arr),\n",
    "    yaxis=dict(title='Percentage of Charged Off Loan Amounts',categoryorder='array', categoryarray=loan_amnt_cat_arr)\n",
    ")\n",
    "\n",
    "fig = go.Figure(data=[heatmap], layout=layout)\n",
    "\n",
    "fig.show()"
   ]
  },
  {
   "cell_type": "markdown",
   "id": "b9337123",
   "metadata": {},
   "source": [
    "### Insight:\n",
    "People with annual income from 20k to 60k taking loan more than 15k are charging off more."
   ]
  },
  {
   "cell_type": "markdown",
   "id": "098ace1a",
   "metadata": {},
   "source": [
    "## Loan Amount Vs Month of Issue"
   ]
  },
  {
   "cell_type": "code",
   "execution_count": null,
   "id": "5f0a10d8",
   "metadata": {},
   "outputs": [],
   "source": [
    "fig = go.Figure(data=go.Box(x=loan.issue_month, y=loan.loan_amnt))\n",
    "fig.update_layout(title='Spread of Loan Amount Across All Months', \n",
    "                  yaxis_title='Loan Amount',\n",
    "                  xaxis=dict(title='Months', categoryorder='array', categoryarray=issue_month_cat_arr),\n",
    "                  height = 1000,\n",
    "                  width = 700\n",
    "                  )\n",
    "fig.show()"
   ]
  },
  {
   "cell_type": "markdown",
   "id": "a18189ce",
   "metadata": {},
   "source": [
    "### Insight:\n",
    "- Loan amounts given across all months are evenly spread. There is a slight increase in the amount for December.\n",
    "- This analysis, however, does not give us insight into how it affects the charge off. Therefore, month of issue is not a metric that affects charge off percentage."
   ]
  },
  {
   "cell_type": "markdown",
   "id": "bac9b19d",
   "metadata": {},
   "source": [
    "## Loan Amount Vs Loan Purpose"
   ]
  },
  {
   "cell_type": "code",
   "execution_count": null,
   "id": "69aae912",
   "metadata": {},
   "outputs": [],
   "source": [
    "fig = go.Figure(data=go.Box(x=loan_npaid.purpose, y=loan_npaid.loan_amnt))\n",
    "fig.update_layout(title='Spread of Loan Amount Over Loan Purpose', \n",
    "                  yaxis_title='Loan Amount',\n",
    "                  xaxis=dict(title='Loan Purpose', categoryorder='category ascending'),\n",
    "                  height = 1000,\n",
    "                  width = 700\n",
    "                  )\n",
    "fig.show()"
   ]
  },
  {
   "cell_type": "code",
   "execution_count": null,
   "id": "e840bbfa",
   "metadata": {},
   "outputs": [],
   "source": [
    "loan_count = loan.groupby(['loan_amnt_bin_str', 'purpose', 'loan_status']).size().unstack()\n",
    "loan_count = loan_count.reset_index()\n",
    "loan_count['npaid_ratio'] = round((loan_count['Charged Off'] / (loan_count['Charged Off'] + loan_count['Fully Paid']))*100,2)\n",
    "\n",
    "pvt = pd.pivot_table(data=loan_count, index=\"loan_amnt_bin_str\", columns=\"purpose\", values=\"npaid_ratio\")\n",
    "\n",
    "\n",
    "# Extract the row and column labels\n",
    "row_labels = pvt.index.get_level_values(\"loan_amnt_bin_str\")\n",
    "column_labels = pvt.columns.get_level_values(\"purpose\")\n",
    "\n",
    "# Create the heatmap trace\n",
    "heatmap = go.Heatmap(\n",
    "    x=column_labels,\n",
    "    y=row_labels,\n",
    "    z=pvt.values,\n",
    "    colorscale='Blues'  # You can choose any colorscale you prefer\n",
    ")\n",
    "\n",
    "# Create the layout\n",
    "layout = go.Layout(\n",
    "    title=\"Spread of Charged Off Loan Amounts Over Loan Purpose\",\n",
    "    xaxis=dict(title=\"Purpose\"),\n",
    "    yaxis=dict(title=\"Percentage of Charged Off Loans\",categoryorder='array', categoryarray=loan_amnt_cat_arr)\n",
    ")\n",
    "\n",
    "# Create the figure\n",
    "fig = go.Figure(data=[heatmap], layout=layout)\n",
    "\n",
    "# Display the plot\n",
    "fig.show()\n"
   ]
  },
  {
   "cell_type": "markdown",
   "id": "09cde05d",
   "metadata": {},
   "source": [
    "### Insight:\n",
    "- From univariate analysis, we know small businesses charge off at a higher percentage. Here, we can see that insight being confirmed with the darker blues.\n",
    "- In small businesses, loan amounts from 10k to 35k charge off more, especially the higher loan amounts of 25k and above.\n",
    "- It is interesting to see that the loan amounts between 20k to 25k have a higher charge off percentage across loan purposes.\n",
    "- A crucial insight here is that higher loan amounts (>25k) are charging off at a significant rate when taken for medical purposes. One can think that it could be due to increased death rates for crucial ailments."
   ]
  },
  {
   "cell_type": "markdown",
   "id": "bee96f35",
   "metadata": {},
   "source": [
    "## Loan Amount Vs State"
   ]
  },
  {
   "cell_type": "code",
   "execution_count": null,
   "id": "42826608",
   "metadata": {},
   "outputs": [],
   "source": [
    "fig = go.Figure(data=go.Box(x=loan.addr_state, y=loan.loan_amnt))\n",
    "fig.update_layout(title='Spread of Loan Amount Across States', \n",
    "                  yaxis_title='Loan Amount',\n",
    "                  xaxis=dict(title='States', categoryorder='category ascending'),\n",
    "                  height = 1000,\n",
    "                  width = 700\n",
    "                  )\n",
    "fig.show()"
   ]
  },
  {
   "cell_type": "markdown",
   "id": "0209da71",
   "metadata": {},
   "source": [
    "### Insight:\n",
    "- Very few people take loans greater than 30k in all states as per the outliers in the above graph."
   ]
  },
  {
   "cell_type": "code",
   "execution_count": null,
   "id": "962915db",
   "metadata": {},
   "outputs": [],
   "source": [
    "loan_state = loan[loan['addr_state'].isin(merged_st_df['state'])]\n",
    "loan_count = loan_state.groupby(['loan_amnt_bin_str', 'addr_state', 'loan_status']).size().unstack()\n",
    "loan_count = loan_count.reset_index()\n",
    "loan_count['npaid_ratio'] = round((loan_count['Charged Off'] / (loan_count['Charged Off'] + loan_count['Fully Paid']))*100,2)\n",
    "\n",
    "pvt = pd.pivot_table(data=loan_count, index=\"loan_amnt_bin_str\", columns=\"addr_state\", values=\"npaid_ratio\")\n",
    "\n",
    "\n",
    "# Extract the row and column labels\n",
    "row_labels = pvt.index.get_level_values(\"loan_amnt_bin_str\")\n",
    "column_labels = pvt.columns.get_level_values(\"addr_state\")\n",
    "\n",
    "# Create the heatmap trace\n",
    "heatmap = go.Heatmap(\n",
    "    x=column_labels,\n",
    "    y=row_labels,\n",
    "    z=pvt.values,\n",
    "    colorscale='Blues'  # You can choose any colorscale you prefer\n",
    ")\n",
    "\n",
    "# Create the layout\n",
    "layout = go.Layout(\n",
    "    title=\"Spread of Charged Off Loan Amounts Across States\",\n",
    "    xaxis=dict(title=\"State\"),\n",
    "    yaxis=dict(title=\"Percentage of Charged Off Loans\",categoryorder='array', categoryarray=loan_amnt_cat_arr)\n",
    ")\n",
    "\n",
    "# Create the figure\n",
    "fig = go.Figure(data=[heatmap], layout=layout)\n",
    "\n",
    "# Display the plot\n",
    "fig.show()\n"
   ]
  },
  {
   "cell_type": "markdown",
   "id": "5ed685ff",
   "metadata": {},
   "source": [
    "### Insight:\n",
    "- We know that most loans are given out in CA, NY as per univariate analysis.\n",
    "- Most charge off happens at NV, FL, NM as per univariate analysis.\n",
    "- Let's concentrate on these states here.\n",
    "- CA has more charge off for higher loans amounts (> 20k)\n",
    "- It is clear that NV is charging off across all loan amounts. Loans amounts for this state have to be given out carefully.\n",
    "- NY pays off loans well.\n",
    "- In general, across states, charge off is high for higher loan amounts (>25k)"
   ]
  },
  {
   "cell_type": "markdown",
   "id": "1774ee5f",
   "metadata": {},
   "source": [
    "## Loan Amount Vs DTI"
   ]
  },
  {
   "cell_type": "code",
   "execution_count": null,
   "id": "1ba2844d",
   "metadata": {},
   "outputs": [],
   "source": [
    "# Create a scatter plot\n",
    "fig = go.Figure(data=go.Scatter(x=loan.dti, y=loan.loan_amnt, mode='markers'))\n",
    "\n",
    "# Update layout\n",
    "fig.update_layout(\n",
    "    title='Distribution of Loan Amount Across DTI',\n",
    "    xaxis=dict(title='DTI'),\n",
    "    yaxis=dict(title='Loan Amount')\n",
    ")\n",
    "\n",
    "# Show the plot\n",
    "fig.show()"
   ]
  },
  {
   "cell_type": "markdown",
   "id": "87691f20",
   "metadata": {},
   "source": [
    "### Insight:\n",
    "- Lending Club gives out lesser loans at higher DTI.= which is good.\n",
    "- Loan density is high between 10 to 25 dti.\n",
    "- Smaller loan amounts (<10k) are given out irrespective of the dti."
   ]
  },
  {
   "cell_type": "code",
   "execution_count": null,
   "id": "fae4fbbd",
   "metadata": {},
   "outputs": [],
   "source": [
    "loan_count = loan.groupby(['loan_amnt_bin_str', 'dti_bin', 'loan_status']).size().unstack()\n",
    "loan_count = loan_count.reset_index()\n",
    "loan_count['npaid_ratio'] = round((loan_count['Charged Off'] / (loan_count['Charged Off'] + loan_count['Fully Paid']))*100,2)\n",
    "pvt = pd.pivot_table(data=loan_count, index=\"loan_amnt_bin_str\", columns=\"dti_bin\", values=\"npaid_ratio\")\n",
    "\n",
    "row_labels = pvt.index.get_level_values(\"loan_amnt_bin_str\")\n",
    "column_labels = pvt.columns.get_level_values(\"dti_bin\")\n",
    "\n",
    "# Create the heatmap trace\n",
    "heatmap = go.Heatmap(\n",
    "    x=column_labels,\n",
    "    y=row_labels,\n",
    "    z=pvt.values,\n",
    "    colorscale='Blues' \n",
    ")\n",
    "\n",
    "layout = go.Layout(\n",
    "    title=\"Spread of Charged Off Loan Amounts Over DTI\",\n",
    "    xaxis=dict(title=\"DTI\"),\n",
    "    yaxis=dict(title='Percentage of Charged Off Loan Amounts',categoryorder='array', categoryarray=loan_amnt_cat_arr)\n",
    ")\n",
    "\n",
    "fig = go.Figure(data=[heatmap], layout=layout)\n",
    "\n",
    "fig.show()"
   ]
  },
  {
   "cell_type": "markdown",
   "id": "10815b1b",
   "metadata": {},
   "source": [
    "### Insight:\n",
    "- The above two graphs show that Lending Club is giving out loans at the right dti.\n",
    "- Most loans are charged off for higher loan amounts(>20k) for high dti(>16)."
   ]
  },
  {
   "cell_type": "markdown",
   "id": "3a7cb980",
   "metadata": {},
   "source": [
    "## Loan Amount Vs Bankruptices"
   ]
  },
  {
   "cell_type": "code",
   "execution_count": null,
   "id": "ec5c5e1c",
   "metadata": {},
   "outputs": [],
   "source": [
    "fig = go.Figure(data=go.Box(x=loan.pub_rec_bankruptcies, y=loan.loan_amnt))\n",
    "fig.update_layout(title='Spread of Loan Amount Across States', \n",
    "                  yaxis_title='Loan Amount',\n",
    "                  xaxis=dict(title='Bankruptcies', categoryorder='category ascending'),\n",
    "                  height = 1000,\n",
    "                  width = 700\n",
    "                  )\n",
    "fig.show()"
   ]
  },
  {
   "cell_type": "code",
   "execution_count": null,
   "id": "306cc7e0",
   "metadata": {},
   "outputs": [],
   "source": [
    "loan_count = loan.groupby(['pub_rec_bankruptcies_str', 'loan_amnt_bin', 'loan_status']).size().unstack()\n",
    "loan_count = loan_count.reset_index()\n",
    "loan_count['npaid_ratio'] = round((loan_count['Charged Off'] / (loan_count['Charged Off'] + loan_count['Fully Paid']))*100,2)\n",
    "pvt = pd.pivot_table(data=loan_count, index=\"loan_amnt_bin\", columns=\"pub_rec_bankruptcies_str\", values=\"npaid_ratio\")\n",
    "fig = go.Figure()\n",
    "\n",
    "fig.add_trace(go.Scatter(\n",
    "    x=loan_amnt_cat_arr,\n",
    "    y=pvt['0.0'],\n",
    "    mode='lines',\n",
    "    name='0')\n",
    ")\n",
    "\n",
    "fig.add_trace(go.Scatter(\n",
    "    x=loan_amnt_cat_arr,\n",
    "    y=pvt['1.0'],\n",
    "    mode='lines',\n",
    "    name='1')\n",
    ")\n",
    "\n",
    "fig.add_trace(go.Scatter(\n",
    "    x=loan_amnt_cat_arr,\n",
    "    y=pvt['2.0'],\n",
    "    mode='lines',\n",
    "    name='2')\n",
    ")\n",
    "\n",
    "fig.update_layout(\n",
    "    title='Spread of Charged Off Loan Amounts Over Bankruptcy Record',\n",
    "    xaxis=dict(title='Loan Amount',categoryorder='array', categoryarray=loan_amnt_cat_arr),\n",
    "    yaxis=dict(title='Percentage of Charged Off Loans')\n",
    ")\n",
    "\n",
    "fig.show()"
   ]
  },
  {
   "cell_type": "markdown",
   "id": "9deee036",
   "metadata": {},
   "source": [
    "### Insight:\n",
    "- It is definitely good to avoid loans for borrowers with previous bankruptcy records.\n",
    "- Lending club is already giving out very meagre number of loans to people with prior bankruptcy history."
   ]
  },
  {
   "cell_type": "markdown",
   "id": "a6dd22e9",
   "metadata": {},
   "source": [
    "# Bivariate Analysis on Loan Term With Other Metrics"
   ]
  },
  {
   "cell_type": "markdown",
   "id": "80a1299a",
   "metadata": {},
   "source": [
    "## Loan Term Vs Interest Rate"
   ]
  },
  {
   "cell_type": "code",
   "execution_count": null,
   "id": "98827eaa",
   "metadata": {},
   "outputs": [],
   "source": [
    "fig = go.Figure(data=go.Violin(x=loan.term, y=loan.int_rate, box_visible=True, meanline_visible=True))\n",
    "\n",
    "fig.update_layout(title='Spread of Interest Rates For Loan Terms', \n",
    "                  yaxis_title='Interest Rate',\n",
    "                  xaxis=dict(title='Loan Term', categoryorder='category ascending'),\n",
    "                  height = 1000,\n",
    "                  width = 700\n",
    "                  )\n",
    "fig.show()"
   ]
  },
  {
   "cell_type": "markdown",
   "id": "b87dd61d",
   "metadata": {},
   "source": [
    "### Insight:\n",
    "- Short term loans are given at relatively lesser interest rates and long term loans are given at higher interest rates.\n",
    "- This also explains why long term loans charge off more - we know higher interest rate loans charge off more."
   ]
  },
  {
   "cell_type": "code",
   "execution_count": null,
   "id": "fd272d6c",
   "metadata": {},
   "outputs": [],
   "source": [
    "loan_count = loan.groupby(['term', 'int_rate_bin', 'loan_status']).size().unstack()\n",
    "loan_count = loan_count.reset_index()\n",
    "loan_count['npaid_ratio'] = round((loan_count['Charged Off'] / (loan_count['Charged Off'] + loan_count['Fully Paid']))*100,2)\n",
    "pvt = pd.pivot_table(data=loan_count, index=\"int_rate_bin\", columns=\"term\", values=\"npaid_ratio\")\n",
    "fig = go.Figure()\n",
    "\n",
    "fig.add_trace(go.Scatter(\n",
    "    x=pvt.index,\n",
    "    y=pvt[' 36 months'],\n",
    "    mode='lines',\n",
    "    name='36 months')\n",
    ")\n",
    "\n",
    "fig.add_trace(go.Scatter(\n",
    "    x=pvt.index,\n",
    "    y=pvt[' 60 months'],\n",
    "    mode='lines',\n",
    "    name='60 months')\n",
    ")\n",
    "\n",
    "fig.update_layout(\n",
    "    title='Spread of Interest Rates Over Loan Term',\n",
    "    xaxis=dict(title='Interest Rate'),\n",
    "    yaxis=dict(title='Percentage of Charged Off Loans')\n",
    ")\n",
    "\n",
    "fig.show()"
   ]
  },
  {
   "cell_type": "markdown",
   "id": "6da87547",
   "metadata": {},
   "source": [
    "### Insight;\n",
    "- It is clear that long term loans have a higher charge off rate as interest rate increases.\n",
    "- But after int rate >20, the gap between both loan terms reduces."
   ]
  },
  {
   "cell_type": "markdown",
   "id": "90aacdcb",
   "metadata": {},
   "source": [
    "## Loan Term Vs Sub-Grades"
   ]
  },
  {
   "cell_type": "code",
   "execution_count": null,
   "id": "0c0861a4",
   "metadata": {},
   "outputs": [],
   "source": [
    "loan_count = loan.groupby(['sub_grade', 'term', 'loan_status']).size().unstack()\n",
    "loan_count = loan_count.reset_index()\n",
    "loan_count['npaid_ratio'] = round((loan_count['Charged Off'] / (loan_count['Charged Off'] + loan_count['Fully Paid']))*100,2)\n",
    "pvt = pd.pivot_table(data=loan_count, index=\"sub_grade\", columns=\"term\", values=\"npaid_ratio\")\n",
    "\n",
    "# Plot a graph\n",
    "fig = go.Figure()\n",
    "\n",
    "row_labels = pvt.index.get_level_values(\"sub_grade\")\n",
    "column_labels = pvt.columns.get_level_values(\"term\")\n",
    "z=pvt.values\n",
    "\n",
    "fig.add_trace(go.Bar(\n",
    "    x=pvt.index,\n",
    "    y=pvt[' 36 months'],\n",
    "    name='36 months',\n",
    "    offset=-0.2,\n",
    "    marker=dict(color='Blue')\n",
    "))\n",
    "fig.add_trace(go.Bar(\n",
    "    x=pvt.index,\n",
    "    y=pvt[' 60 months'],\n",
    "    name='60 months',\n",
    "    offset=0.2,\n",
    "    marker=dict(color='Green')\n",
    "))\n",
    "bar_width = 0.4\n",
    "fig.update_traces(width=bar_width)\n",
    "fig.update_layout(\n",
    "    title='Loan Sub-Grades In Each Term',\n",
    "    xaxis_title='Sub-Grade',\n",
    "    yaxis_title='Ratio of Charged Off Loans',\n",
    "    barmode='group'\n",
    ")\n",
    "fig.show()"
   ]
  },
  {
   "cell_type": "markdown",
   "id": "40e2732a",
   "metadata": {},
   "source": [
    "### Insight:\n",
    "- Long term loans across all sub grades are charging off at a higher percentage.\n",
    "- Interesting to note that for G2, G4 and G5, short term loans are charging off more. Further analysis for these grades is done next."
   ]
  },
  {
   "cell_type": "code",
   "execution_count": null,
   "id": "291ebcc3",
   "metadata": {},
   "outputs": [],
   "source": [
    "loan.int_rate[(loan.term == ' 36 months') & (loan.sub_grade.isin(['G2','G4''G5'])) & (loan.loan_status == 'Charged Off')]"
   ]
  },
  {
   "cell_type": "markdown",
   "id": "4bfc87c4",
   "metadata": {},
   "source": [
    "### Insight:\n",
    "- High risk loans have high interest rate. Irrespective of the term, high risk loans (Grade G) charge off more."
   ]
  },
  {
   "cell_type": "markdown",
   "id": "0360afdb",
   "metadata": {},
   "source": [
    "## Loan Term Vs Home Ownership"
   ]
  },
  {
   "cell_type": "code",
   "execution_count": null,
   "id": "9e0dded7",
   "metadata": {},
   "outputs": [],
   "source": [
    "loan_home = loan[loan.home_ownership != 'OTHER']\n",
    "loan_count = loan_home.groupby(['home_ownership', 'term', 'loan_status']).size().unstack()\n",
    "loan_count = loan_count.reset_index()\n",
    "loan_count['npaid_ratio'] = round((loan_count['Charged Off'] / (loan_count['Charged Off'] + loan_count['Fully Paid']))*100,2)\n",
    "pvt = pd.pivot_table(data=loan_count, index=\"home_ownership\", columns=\"term\", values=\"npaid_ratio\")\n",
    "\n",
    "# Plot a graph\n",
    "fig = go.Figure()\n",
    "\n",
    "row_labels = pvt.index.get_level_values(\"home_ownership\")\n",
    "column_labels = pvt.columns.get_level_values(\"term\")\n",
    "z=pvt.values\n",
    "\n",
    "fig.add_trace(go.Bar(\n",
    "    x=pvt.index,\n",
    "    y=pvt[' 36 months'],\n",
    "    name='36 months',\n",
    "    offset=-0.2,\n",
    "    marker=dict(color='Blue')\n",
    "))\n",
    "fig.add_trace(go.Bar(\n",
    "    x=pvt.index,\n",
    "    y=pvt[' 60 months'],\n",
    "    name='60 months',\n",
    "    offset=0.2,\n",
    "    marker=dict(color='Green')\n",
    "))\n",
    "bar_width = 0.4\n",
    "fig.update_traces(width=bar_width)\n",
    "fig.update_layout(\n",
    "    title='Home Ownership In Each Term',\n",
    "    xaxis_title='Home Ownership',\n",
    "    yaxis_title='Ratio of Charged Off Loans',\n",
    "    barmode='group'\n",
    ")\n",
    "fig.show()"
   ]
  },
  {
   "cell_type": "markdown",
   "id": "b1ea6c91",
   "metadata": {},
   "source": [
    "### Insight:\n",
    "- We have removed 'other' category from analysis as suggested in Univariate analysis.\n",
    "- We already know that long term loans are charged off more. So, home ownership does not impact loan term."
   ]
  },
  {
   "cell_type": "markdown",
   "id": "0b28cb29",
   "metadata": {},
   "source": [
    "## Loan Term Vs Annual Income"
   ]
  },
  {
   "cell_type": "code",
   "execution_count": null,
   "id": "7d2f92a1",
   "metadata": {},
   "outputs": [],
   "source": [
    "fig = go.Figure(data=go.Violin(x=loan.term, y=loan.annual_inc[loan.annual_inc < 140000], box_visible=True, meanline_visible=True))\n",
    "\n",
    "fig.update_layout(title='Spread of Annual Income Over Loan Term', \n",
    "                  yaxis_title='Annual Income',\n",
    "                  xaxis=dict(title='Loan Term', categoryorder='category ascending'),\n",
    "                  height = 1000,\n",
    "                  width = 700\n",
    "                  )\n",
    "fig.show()"
   ]
  },
  {
   "cell_type": "markdown",
   "id": "701b1892",
   "metadata": {},
   "source": [
    "### Insight:\n",
    "- People with income in all brackets take loan across both terms."
   ]
  },
  {
   "cell_type": "code",
   "execution_count": null,
   "id": "d6144d82",
   "metadata": {},
   "outputs": [],
   "source": [
    "loan_count = loan_annual_inc.groupby(['term', 'annual_inc_bin_str', 'loan_status']).size().unstack()\n",
    "loan_count = loan_count.reset_index()\n",
    "loan_count['npaid_ratio'] = round((loan_count['Charged Off'] / (loan_count['Charged Off'] + loan_count['Fully Paid']))*100,2)\n",
    "pvt = pd.pivot_table(data=loan_count, index=\"annual_inc_bin_str\", columns=\"term\", values=\"npaid_ratio\")\n",
    "fig = go.Figure()\n",
    "\n",
    "fig.add_trace(go.Scatter(\n",
    "    x=annual_inc_cat_arr,\n",
    "    y=pvt[' 36 months'],\n",
    "    mode='lines',\n",
    "    name='36 months')\n",
    ")\n",
    "\n",
    "fig.add_trace(go.Scatter(\n",
    "    x=annual_inc_cat_arr,\n",
    "    y=pvt[' 60 months'],\n",
    "    mode='lines',\n",
    "    name='60 months')\n",
    ")\n",
    "\n",
    "fig.update_layout(\n",
    "    title='Spread of Annual Income Over Loan Term',\n",
    "    xaxis=dict(title='Annual Income', categoryorder='array', categoryarray=annual_inc_cat_arr),\n",
    "    yaxis=dict(title='Percentage of Charged Off Loans')\n",
    ")\n",
    "\n",
    "fig.show()"
   ]
  },
  {
   "cell_type": "markdown",
   "id": "7a51a5a7",
   "metadata": {},
   "source": [
    "### Insight:\n",
    "- People with income < 20k have a higher charge off percentage.\n",
    "- Then there is a dip in charge off percentage and then after 50k, the charge off percentage increases until 90k annual income.\n",
    "- Overall, long term loans are charged off at a higher percentage when compared to short term loans."
   ]
  },
  {
   "cell_type": "markdown",
   "id": "204e92e7",
   "metadata": {},
   "source": [
    "## Loan Term Vs Loan Purpose"
   ]
  },
  {
   "cell_type": "code",
   "execution_count": null,
   "id": "98aea6c2",
   "metadata": {},
   "outputs": [],
   "source": [
    "loan_count = loan.groupby(['purpose', 'term', 'loan_status']).size().unstack()\n",
    "loan_count = loan_count.reset_index()\n",
    "loan_count['npaid_ratio'] = round((loan_count['Charged Off'] / (loan_count['Charged Off'] + loan_count['Fully Paid']))*100,2)\n",
    "pvt = pd.pivot_table(data=loan_count, index=\"purpose\", columns=\"term\", values=\"npaid_ratio\")\n",
    "\n",
    "# Plot a graph\n",
    "fig = go.Figure()\n",
    "\n",
    "row_labels = pvt.index.get_level_values(\"purpose\")\n",
    "column_labels = pvt.columns.get_level_values(\"term\")\n",
    "z=pvt.values\n",
    "\n",
    "fig.add_trace(go.Bar(\n",
    "    x=pvt.index,\n",
    "    y=pvt[' 36 months'],\n",
    "    name='36 months',\n",
    "    offset=-0.2,\n",
    "    marker=dict(color='Blue')\n",
    "))\n",
    "fig.add_trace(go.Bar(\n",
    "    x=pvt.index,\n",
    "    y=pvt[' 60 months'],\n",
    "    name='60 months',\n",
    "    offset=0.2,\n",
    "    marker=dict(color='Green')\n",
    "))\n",
    "bar_width = 0.4\n",
    "fig.update_traces(width=bar_width)\n",
    "fig.update_layout(\n",
    "    title='Purpose Vs Term',\n",
    "    xaxis_title='Purpose',\n",
    "    yaxis_title='Percentage of Charged Off Loans',\n",
    "    barmode='group'\n",
    ")\n",
    "fig.show()"
   ]
  },
  {
   "cell_type": "markdown",
   "id": "dca6f9cf",
   "metadata": {},
   "source": [
    "### Insight:\n",
    "- Loan term and purpose have a high impact on loans of being charged off as can be seen here.\n",
    "- Credit card, debt consolidation, educational, house, major purchase, small business, vacation - for these purpose, long term loans charge off more than twice the percentage when compared to short term loans. "
   ]
  },
  {
   "cell_type": "markdown",
   "id": "53de580c",
   "metadata": {},
   "source": [
    "## Loan Term Vs DTI"
   ]
  },
  {
   "cell_type": "code",
   "execution_count": null,
   "id": "652817fb",
   "metadata": {},
   "outputs": [],
   "source": [
    "fig = go.Figure(data=go.Violin(x=loan.term, y=loan.dti, box_visible=True, meanline_visible=True))\n",
    "\n",
    "fig.update_layout(title='Spread of DTI Over Loan Term', \n",
    "                  yaxis_title='DTI',\n",
    "                  xaxis=dict(title='Loan Term', categoryorder='category ascending'),\n",
    "                  height = 1000,\n",
    "                  width = 700\n",
    "                  )\n",
    "fig.show()"
   ]
  },
  {
   "cell_type": "markdown",
   "id": "997568b6",
   "metadata": {},
   "source": [
    "### Insight\n",
    "- People with DTI in all ranges equally take loans in both short term and long term.\n",
    "- We can now see how the two metrics behave with charged off loans"
   ]
  },
  {
   "cell_type": "code",
   "execution_count": null,
   "id": "227a1082",
   "metadata": {},
   "outputs": [],
   "source": [
    "loan_count = loan.groupby(['term', 'dti_bin', 'loan_status']).size().unstack()\n",
    "loan_count = loan_count.reset_index()\n",
    "loan_count['npaid_ratio'] = round((loan_count['Charged Off'] / (loan_count['Charged Off'] + loan_count['Fully Paid']))*100,2)\n",
    "pvt = pd.pivot_table(data=loan_count, index=\"dti_bin\", columns=\"term\", values=\"npaid_ratio\")\n",
    "fig = go.Figure()\n",
    "\n",
    "fig.add_trace(go.Scatter(\n",
    "    x=pvt.index,\n",
    "    y=pvt[' 36 months'],\n",
    "    mode='lines',\n",
    "    name='36 months')\n",
    ")\n",
    "\n",
    "fig.add_trace(go.Scatter(\n",
    "    x=pvt.index,\n",
    "    y=pvt[' 60 months'],\n",
    "    mode='lines',\n",
    "    name='60 months')\n",
    ")\n",
    "\n",
    "fig.update_layout(\n",
    "    title='Spread of DTI Over Loan Term',\n",
    "    xaxis=dict(title='DTI'),\n",
    "    yaxis=dict(title='Percentage of Charged Off Loans')\n",
    ")\n",
    "\n",
    "fig.show()"
   ]
  },
  {
   "cell_type": "markdown",
   "id": "72dcfd91",
   "metadata": {},
   "source": [
    "### Insight:\n",
    "- Long term loans charge off more, Long term loans strongly default more in comparison to short term ones."
   ]
  },
  {
   "cell_type": "markdown",
   "id": "e68c8eab",
   "metadata": {},
   "source": [
    "## Interest Rate Vs SubGrade"
   ]
  },
  {
   "cell_type": "code",
   "execution_count": null,
   "id": "c3b01244",
   "metadata": {},
   "outputs": [],
   "source": [
    "# See if interest rate and sub grade are related (for all loans, not just for charged off loans)\n",
    "fig = go.Figure(data=go.Violin(x=loan.sub_grade, y=loan.int_rate, box_visible=True, meanline_visible=True))\n",
    "\n",
    "fig.update_layout(title='Spread of Interest Rate Over Sub Grades', \n",
    "                  yaxis_title='Interest Rate',\n",
    "                  xaxis=dict(title='Sub Grade', categoryorder='category ascending'),\n",
    "                  height = 1000,\n",
    "                  width = 1000\n",
    "                  )\n",
    "fig.show()"
   ]
  },
  {
   "cell_type": "markdown",
   "id": "54f594bf",
   "metadata": {},
   "source": [
    "### Insight:\n",
    "- High risk loans are given at high interest rates. \n",
    "- From univariate analysis of both the metrics individually, we know that high risk loans and high interest rate loans are charged off at a higher rate.\n",
    "- The correlation between these two metrics is high.\n",
    "- For further analysis, we can consider just one of these metrics and understand that any impact on interest rate indirectly impacts grades of loans."
   ]
  },
  {
   "cell_type": "code",
   "execution_count": null,
   "id": "837c7c08",
   "metadata": {},
   "outputs": [],
   "source": [
    "loan_count = loan.groupby(['int_rate_bin', 'sub_grade', 'loan_status']).size().unstack()\n",
    "loan_count = loan_count.reset_index()\n",
    "loan_count['npaid_ratio'] = round((loan_count['Charged Off'] / (loan_count['Charged Off'] + loan_count['Fully Paid']))*100,2)\n",
    "\n",
    "pvt = pd.pivot_table(data=loan_count, index=\"int_rate_bin\", columns=\"sub_grade\", values=\"npaid_ratio\")\n",
    "\n",
    "row_labels = pvt.index.get_level_values(\"int_rate_bin\")\n",
    "column_labels = pvt.columns.get_level_values(\"sub_grade\")\n",
    "\n",
    "# Create the heatmap trace\n",
    "heatmap = go.Heatmap(\n",
    "    x=column_labels,\n",
    "    y=row_labels,\n",
    "    z=pvt.values,\n",
    "    colorscale='Blues'  \n",
    ")\n",
    "layout = go.Layout(\n",
    "    title=\"Spread of Charged Off Loans at Various Interest Rates Over Loan Sub Grades\",\n",
    "    xaxis=dict(title=\"Sub Grades\"),\n",
    "    yaxis=dict(title='Percentage of Charged Off Loans at Various Interest Rates')\n",
    ")\n",
    "fig = go.Figure(data=[heatmap], layout=layout)\n",
    "fig.show()\n"
   ]
  },
  {
   "cell_type": "markdown",
   "id": "b46f986e",
   "metadata": {},
   "source": [
    "### Insight:\n",
    "- Interest Rate and Grades are highly correlated.\n",
    "- Higher the risk of the loan (grade: a<b<c<d<e<f<g), hgiher the interest rate at which it is being charged off.\n",
    "- We can consider just one of these variables for future analysis."
   ]
  },
  {
   "cell_type": "markdown",
   "id": "2b94aeee",
   "metadata": {},
   "source": [
    "## Interest Rate Vs Annual Income"
   ]
  },
  {
   "cell_type": "code",
   "execution_count": null,
   "id": "cf80cb8c",
   "metadata": {},
   "outputs": [],
   "source": [
    "# Create a scatter plot\n",
    "fig = go.Figure(data=go.Scatter(x=loan.annual_inc[loan.annual_inc<140000], y=loan.int_rate, mode='markers'))\n",
    "\n",
    "# Update layout\n",
    "fig.update_layout(\n",
    "    title='Distribution of Interest Rate Over Annual Income',\n",
    "    xaxis=dict(title='Annual Income'),\n",
    "    yaxis=dict(title='Interest Rate')\n",
    ")\n",
    "\n",
    "# Show the plot\n",
    "fig.show()"
   ]
  },
  {
   "cell_type": "markdown",
   "id": "4a2f1404",
   "metadata": {},
   "source": [
    "### Insight:\n",
    "- Interest Rate and Annual Incomehave an even spread when loans are taken. \n",
    "- As income increases, lesser loans are taken."
   ]
  },
  {
   "cell_type": "code",
   "execution_count": null,
   "id": "8c4cfd15",
   "metadata": {},
   "outputs": [],
   "source": [
    "loan_count = loan_annual_inc.groupby(['annual_inc_bin_str', 'int_rate_bin', 'loan_status']).size().unstack()\n",
    "loan_count = loan_count.reset_index()\n",
    "loan_count['npaid_ratio'] = round((loan_count['Charged Off'] / (loan_count['Charged Off'] + loan_count['Fully Paid']))*100,2)\n",
    "pvt = pd.pivot_table(data=loan_count, index=\"annual_inc_bin_str\", columns=\"int_rate_bin\", values=\"npaid_ratio\")\n",
    "\n",
    "row_labels = pvt.index.get_level_values(\"annual_inc_bin_str\")\n",
    "column_labels = pvt.columns.get_level_values(\"int_rate_bin\")\n",
    "\n",
    "# Create the heatmap trace\n",
    "heatmap = go.Heatmap(\n",
    "    x=column_labels,\n",
    "    y=row_labels,\n",
    "    z=pvt.values,\n",
    "    colorscale='Blues' \n",
    ")\n",
    "\n",
    "layout = go.Layout(\n",
    "    title=\"Spread of Charged Off Loan Amounts in Various Annual Income Brackets Over Interest Rate\",\n",
    "    xaxis=dict(title=\"Interest Rate\"),\n",
    "    yaxis=dict(title='Percentage of Charged Off Loan Amounts in Annual Income Brackets',categoryorder='array', categoryarray=annual_inc_cat_arr)\n",
    ")\n",
    "\n",
    "fig = go.Figure(data=[heatmap], layout=layout)\n",
    "\n",
    "fig.show()"
   ]
  },
  {
   "cell_type": "markdown",
   "id": "5110802d",
   "metadata": {},
   "source": [
    "### Insight:\n",
    "- Irrespective of annual income, at higher interest rate >20%, more default happens.\n",
    "- For income upto 100000, loans at interest rate from 17% itself is charging off more."
   ]
  },
  {
   "cell_type": "markdown",
   "id": "85d46afe",
   "metadata": {},
   "source": [
    "## Interest Rate Vs Loan Purpose"
   ]
  },
  {
   "cell_type": "code",
   "execution_count": null,
   "id": "2d862408",
   "metadata": {},
   "outputs": [],
   "source": [
    "fig = go.Figure(data=go.Violin(x=loan.purpose, y=loan.int_rate, box_visible=True, meanline_visible=True))\n",
    "\n",
    "fig.update_layout(title='Impact of Interest Rate Over Loan Purpose', \n",
    "                  yaxis_title='Interest Rate',\n",
    "                  xaxis=dict(title='Loan Purpose', categoryorder='category ascending'),\n",
    "                  height = 1000,\n",
    "                  width = 1000\n",
    "                  )\n",
    "fig.show()"
   ]
  },
  {
   "cell_type": "markdown",
   "id": "bccd0e63",
   "metadata": {},
   "source": [
    "### Insight:\n",
    "- Educational loan amount are mostly given out in the range of 10 to 15% interest rate.\n",
    "- Average of loans across all purpose is mostly 10-12%.\n",
    "- Q3 for small business is at 15.7 which is higher than Q3 for other loan purposes. This could also be one reason why small business loans are being charged off more."
   ]
  },
  {
   "cell_type": "code",
   "execution_count": null,
   "id": "aea1788d",
   "metadata": {},
   "outputs": [],
   "source": [
    "loan_count = loan.groupby(['int_rate_bin', 'purpose', 'loan_status']).size().unstack()\n",
    "loan_count = loan_count.reset_index()\n",
    "loan_count['npaid_ratio'] = round((loan_count['Charged Off'] / (loan_count['Charged Off'] + loan_count['Fully Paid']))*100,2)\n",
    "\n",
    "pvt = pd.pivot_table(data=loan_count, index=\"int_rate_bin\", columns=\"purpose\", values=\"npaid_ratio\")\n",
    "\n",
    "row_labels = pvt.index.get_level_values(\"int_rate_bin\")\n",
    "column_labels = pvt.columns.get_level_values(\"purpose\")\n",
    "\n",
    "# Create the heatmap trace\n",
    "heatmap = go.Heatmap(\n",
    "    x=column_labels,\n",
    "    y=row_labels,\n",
    "    z=pvt.values,\n",
    "    colorscale='Blues'  \n",
    ")\n",
    "layout = go.Layout(\n",
    "    title=\"Spread of Charged Off Loans at Various Interest Rates Over Loan Purpose\",\n",
    "    xaxis=dict(title=\"Purpose\"),\n",
    "    yaxis=dict(title='Percentage of Charged Off Loans at Various Interest Rates')\n",
    ")\n",
    "fig = go.Figure(data=[heatmap], layout=layout)\n",
    "fig.show()\n"
   ]
  },
  {
   "cell_type": "markdown",
   "id": "4c53c19b",
   "metadata": {},
   "source": [
    "### Insight:\n",
    "- High interest rate is a cause for charge off across all purposes.\n",
    "- We clearly see that small business loans have a darker blue shade across a wider interest rate range indicating more number of small business loans being charged off.\n",
    "- Educational loans at 17-18% have a higher charge off rate in comparison to other loans at this interest rate.\n",
    "- Housing loans at 15-21% charge off more.\n",
    "- Loans taken for moving purposes charge off at lower interest rates too."
   ]
  },
  {
   "cell_type": "markdown",
   "id": "50e13995",
   "metadata": {},
   "source": [
    "## Interest Rate Vs DTI"
   ]
  },
  {
   "cell_type": "code",
   "execution_count": null,
   "id": "c6578d3b",
   "metadata": {},
   "outputs": [],
   "source": [
    "# Create a scatter plot\n",
    "fig = go.Figure(data=go.Scatter(x=loan.dti, y=loan.int_rate, mode='markers'))\n",
    "\n",
    "# Update layout\n",
    "fig.update_layout(\n",
    "    title='Distribution of Interest Rate Over DTI',\n",
    "    xaxis=dict(title='DTI'),\n",
    "    yaxis=dict(title='Interest Rate')\n",
    ")\n",
    "\n",
    "# Show the plot\n",
    "fig.show()"
   ]
  },
  {
   "cell_type": "markdown",
   "id": "437a9c3d",
   "metadata": {},
   "source": [
    "### Insight:\n",
    "- Interest Rate and DTI are not highly correlated as can be seen in the graph.\n",
    "- Number of loans taken at higher interest rates and higher dti irrespective of the other metric is very low which means risky loans are given out less."
   ]
  },
  {
   "cell_type": "code",
   "execution_count": null,
   "id": "a0e06bf3",
   "metadata": {},
   "outputs": [],
   "source": [
    "loan_count = loan_annual_inc.groupby(['int_rate_bin', 'dti_bin', 'loan_status']).size().unstack()\n",
    "loan_count = loan_count.reset_index()\n",
    "loan_count['npaid_ratio'] = round((loan_count['Charged Off'] / (loan_count['Charged Off'] + loan_count['Fully Paid']))*100,2)\n",
    "pvt = pd.pivot_table(data=loan_count, index=\"int_rate_bin\", columns=\"dti_bin\", values=\"npaid_ratio\")\n",
    "\n",
    "row_labels = pvt.index.get_level_values(\"int_rate_bin\")\n",
    "column_labels = pvt.columns.get_level_values(\"dti_bin\")\n",
    "\n",
    "# Create the heatmap trace\n",
    "heatmap = go.Heatmap(\n",
    "    x=column_labels,\n",
    "    y=row_labels,\n",
    "    z=pvt.values,\n",
    "    colorscale='Blues' \n",
    ")\n",
    "\n",
    "layout = go.Layout(\n",
    "    title=\"Spread of Charged Off Loan Amounts at Various Interest Rates Over DTI\",\n",
    "    xaxis=dict(title=\"DTI\"),\n",
    "    yaxis=dict(title='Percentage of Charged Off Loan Amounts at Various Interest Rates', categoryorder=\"category ascending\")\n",
    ")\n",
    "\n",
    "fig = go.Figure(data=[heatmap], layout=layout)\n",
    "\n",
    "fig.show()"
   ]
  },
  {
   "cell_type": "markdown",
   "id": "c089dfc8",
   "metadata": {},
   "source": [
    "### Insight:\n",
    "- Loans at higher interest rate irrespective of dti are being charged off.\n",
    "- Likewise, loans at higher dti irrespective of interest rate are being charged off more wherever given."
   ]
  },
  {
   "cell_type": "markdown",
   "id": "34e24d4d",
   "metadata": {},
   "source": [
    "## Interest Rate Vs Bankruptcies"
   ]
  },
  {
   "cell_type": "code",
   "execution_count": null,
   "id": "e0bb1c8e",
   "metadata": {},
   "outputs": [],
   "source": [
    "fig = go.Figure(data=go.Violin(x=loan.pub_rec_bankruptcies_str, y=loan.int_rate, box_visible=True, meanline_visible=True))\n",
    "\n",
    "fig.update_layout(title='Impact of Interest Rate Over Bankruptcies Record', \n",
    "                  yaxis_title='Interest Rate',\n",
    "                  xaxis=dict(title='Bankruptcies Record', categoryorder='category ascending'),\n",
    "                  height = 1000,\n",
    "                  width = 1000\n",
    "                  )\n",
    "fig.show()"
   ]
  },
  {
   "cell_type": "markdown",
   "id": "fab27513",
   "metadata": {},
   "source": [
    "### Insight:\n",
    "- We know borrowers with more bankruptcies should be avoided loans in general. No more insights need to be derived here."
   ]
  },
  {
   "cell_type": "markdown",
   "id": "50179512",
   "metadata": {},
   "source": [
    "## Annual Income Vs Purpose"
   ]
  },
  {
   "cell_type": "code",
   "execution_count": null,
   "id": "9fdd9664",
   "metadata": {},
   "outputs": [],
   "source": [
    "fig = go.Figure(data=go.Violin(x=loan.purpose, y=loan.annual_inc[loan.annual_inc<140000], box_visible=True, meanline_visible=True))\n",
    "\n",
    "fig.update_layout(title='Impact of Annual Income on Loan Purpose', \n",
    "                  yaxis_title='Annual Income',\n",
    "                  xaxis=dict(title='Loan Purpose', categoryorder='category ascending'),\n",
    "                  height = 1000,\n",
    "                  width = 1000\n",
    "                  )\n",
    "fig.show()"
   ]
  },
  {
   "cell_type": "markdown",
   "id": "9941087a",
   "metadata": {},
   "source": [
    "### Insight:\n",
    "- Borrowers taken loans for various purpose across all income groups.\n",
    "- More people in the income range above 80k take loans for small businnes and vacations."
   ]
  },
  {
   "cell_type": "code",
   "execution_count": null,
   "id": "5f77aef6",
   "metadata": {},
   "outputs": [],
   "source": [
    "loan_count = loan_annual_inc.groupby(['annual_inc_bin_str', 'purpose', 'loan_status']).size().unstack()\n",
    "loan_count = loan_count.reset_index()\n",
    "loan_count['npaid_ratio'] = round((loan_count['Charged Off'] / (loan_count['Charged Off'] + loan_count['Fully Paid']))*100,2)\n",
    "\n",
    "pvt = pd.pivot_table(data=loan_count, index=\"annual_inc_bin_str\", columns=\"purpose\", values=\"npaid_ratio\")\n",
    "\n",
    "row_labels = pvt.index.get_level_values(\"annual_inc_bin_str\")\n",
    "column_labels = pvt.columns.get_level_values(\"purpose\")\n",
    "\n",
    "# Create the heatmap trace\n",
    "heatmap = go.Heatmap(\n",
    "    x=column_labels,\n",
    "    y=row_labels,\n",
    "    z=pvt.values,\n",
    "    colorscale='Blues'  \n",
    ")\n",
    "layout = go.Layout(\n",
    "    title=\"Spread of Charged Off Loans at Various Income Brackets Over Loan Purpose\",\n",
    "    xaxis=dict(title=\"Purpose\"),\n",
    "    yaxis=dict(title='Percentage of Charged Off Loans at Various Income Brackets', categoryorder='array', categoryarray=annual_inc_cat_arr)\n",
    ")\n",
    "fig = go.Figure(data=[heatmap], layout=layout)\n",
    "fig.show()\n",
    "                                                             "
   ]
  },
  {
   "cell_type": "markdown",
   "id": "a69c7502",
   "metadata": {},
   "source": [
    "### Insight:\n",
    "- Annual income does not have any impact on the purpose of loan being charged off.\n",
    "- However, it is clear that small business and renewable energy loans are being charged off at all income levels."
   ]
  },
  {
   "cell_type": "markdown",
   "id": "9a38f099",
   "metadata": {},
   "source": [
    "## Annual Income Vs DTI"
   ]
  },
  {
   "cell_type": "code",
   "execution_count": null,
   "id": "99fa896d",
   "metadata": {},
   "outputs": [],
   "source": [
    "# Create a scatter plot\n",
    "fig = go.Figure(data=go.Scatter(x=loan.annual_inc[loan.annual_inc<140000], y=loan.dti, mode='markers'))\n",
    "\n",
    "# Update layout\n",
    "fig.update_layout(\n",
    "    title='Distribution of Annual Income Over DTI',\n",
    "    xaxis=dict(title='Annual Income'),\n",
    "    yaxis=dict(title='DTI')\n",
    ")\n",
    "\n",
    "# Show the plot\n",
    "fig.show()"
   ]
  },
  {
   "cell_type": "markdown",
   "id": "44bad74a",
   "metadata": {},
   "source": [
    "### Insight:\n",
    "- Most loans have been given off between the range of 20k and 100k annual income but the dti is well spread.\n",
    "- Correlation between these two metrics is less."
   ]
  },
  {
   "cell_type": "code",
   "execution_count": null,
   "id": "19f9fb1e",
   "metadata": {},
   "outputs": [],
   "source": [
    "loan_count = loan_annual_inc.groupby(['annual_inc_bin_str', 'dti_bin', 'loan_status']).size().unstack()\n",
    "loan_count = loan_count.reset_index()\n",
    "loan_count['npaid_ratio'] = round((loan_count['Charged Off'] / (loan_count['Charged Off'] + loan_count['Fully Paid']))*100,2)\n",
    "pvt = pd.pivot_table(data=loan_count, index=\"annual_inc_bin_str\", columns=\"dti_bin\", values=\"npaid_ratio\")\n",
    "\n",
    "row_labels = pvt.index.get_level_values(\"annual_inc_bin_str\")\n",
    "column_labels = pvt.columns.get_level_values(\"dti_bin\")\n",
    "\n",
    "# Create the heatmap trace\n",
    "heatmap = go.Heatmap(\n",
    "    x=column_labels,\n",
    "    y=row_labels,\n",
    "    z=pvt.values,\n",
    "    colorscale='Blues' \n",
    ")\n",
    "\n",
    "layout = go.Layout(\n",
    "    title=\"Spread of Charged Off Loan Amounts at Various Income Brackets Over DTI\",\n",
    "    xaxis=dict(title=\"DTI\"),\n",
    "    yaxis=dict(title='Percentage of Charged Off Loan Amounts at Various Income Brackets', categoryorder=\"array\", categoryarray=annual_inc_cat_arr)\n",
    ")\n",
    "\n",
    "fig = go.Figure(data=[heatmap], layout=layout)\n",
    "\n",
    "fig.show()"
   ]
  },
  {
   "cell_type": "markdown",
   "id": "95e0cc68",
   "metadata": {},
   "source": [
    "### Insight:\n",
    "- We see a slight increase in the blue shade for lower income levels as DTI increases.\n",
    "- Upto an annual income of 40k with dti above 10 seems to have more charged off loan percentage."
   ]
  },
  {
   "cell_type": "markdown",
   "id": "d1503d2b",
   "metadata": {},
   "source": [
    "## Annual Income Vs Bankruptcies"
   ]
  },
  {
   "cell_type": "code",
   "execution_count": null,
   "id": "8d85c14a",
   "metadata": {},
   "outputs": [],
   "source": [
    "fig = go.Figure(data=go.Violin(x=loan.pub_rec_bankruptcies_str, y=loan.annual_inc[loan.annual_inc<140000], box_visible=True, meanline_visible=True))\n",
    "\n",
    "fig.update_layout(title='Impact of Annual Income on Bankruptcies Records', \n",
    "                  yaxis_title='Annual Income',\n",
    "                  xaxis=dict(title='Banruptcies Records', categoryorder='category ascending'),\n",
    "                  height = 1000,\n",
    "                  width = 1000\n",
    "                  )\n",
    "fig.show()"
   ]
  },
  {
   "cell_type": "markdown",
   "id": "d433900e",
   "metadata": {},
   "source": [
    "## Loan Purpose Vs DTI"
   ]
  },
  {
   "cell_type": "code",
   "execution_count": null,
   "id": "36648d07",
   "metadata": {},
   "outputs": [],
   "source": [
    "fig = go.Figure(data=go.Violin(x=loan.purpose, y=loan.dti, box_visible=True, meanline_visible=True))\n",
    "\n",
    "fig.update_layout(title='Impact of DTI on Loan Purpose', \n",
    "                  yaxis_title='DTI',\n",
    "                  xaxis=dict(title='Loan Purpose', categoryorder='category ascending'),\n",
    "                  height = 1000,\n",
    "                  width = 1000\n",
    "                  )\n",
    "fig.show()"
   ]
  },
  {
   "cell_type": "markdown",
   "id": "727e6c22",
   "metadata": {},
   "source": [
    "### Insight:\n",
    "- High risk loans are given for credit card and debt consolidation in comparison to the other loan purposes."
   ]
  },
  {
   "cell_type": "code",
   "execution_count": null,
   "id": "394b3fb0",
   "metadata": {},
   "outputs": [],
   "source": [
    "loan_count = loan_annual_inc.groupby(['dti_bin', 'purpose', 'loan_status']).size().unstack()\n",
    "loan_count = loan_count.reset_index()\n",
    "loan_count['npaid_ratio'] = round((loan_count['Charged Off'] / (loan_count['Charged Off'] + loan_count['Fully Paid']))*100,2)\n",
    "\n",
    "pvt = pd.pivot_table(data=loan_count, index=\"dti_bin\", columns=\"purpose\", values=\"npaid_ratio\")\n",
    "\n",
    "row_labels = pvt.index.get_level_values(\"dti_bin\")\n",
    "column_labels = pvt.columns.get_level_values(\"purpose\")\n",
    "\n",
    "# Create the heatmap trace\n",
    "heatmap = go.Heatmap(\n",
    "    x=column_labels,\n",
    "    y=row_labels,\n",
    "    z=pvt.values,\n",
    "    colorscale='Blues'  \n",
    ")\n",
    "layout = go.Layout(\n",
    "    title=\"Spread of Charged Off Loans for Various DTIs Over Loan Purpose\",\n",
    "    xaxis=dict(title=\"Purpose\"),\n",
    "    yaxis=dict(title='Percentage of Charged Off Loans for Various DTIs', categoryorder='category ascending')\n",
    ")\n",
    "fig = go.Figure(data=[heatmap], layout=layout)\n",
    "fig.show()\n",
    "                                                             "
   ]
  },
  {
   "cell_type": "markdown",
   "id": "b3bf9b18",
   "metadata": {},
   "source": [
    "### Insight:\n",
    "- Small business laons are being charged off at all DTIs.\n",
    "- There is a clear indication that loans with higher DTIs are being charged off at a higher rate.\n",
    "- Renewable sources of energy loans are charging off at a high rate across dtis."
   ]
  },
  {
   "cell_type": "markdown",
   "id": "2fd71d14",
   "metadata": {},
   "source": [
    "## Loan Purpose Vs Grade"
   ]
  },
  {
   "cell_type": "code",
   "execution_count": null,
   "id": "417b17c7",
   "metadata": {},
   "outputs": [],
   "source": [
    "loan_count = loan.groupby(['grade', 'purpose', 'loan_status']).size().unstack()\n",
    "loan_count = loan_count.reset_index()\n",
    "loan_count['npaid_ratio'] = round((loan_count['Charged Off'] / (loan_count['Charged Off'] + loan_count['Fully Paid']))*100,2)\n",
    "\n",
    "pvt = pd.pivot_table(data=loan_count, index=\"grade\", columns=\"purpose\", values=\"npaid_ratio\")\n",
    "\n",
    "row_labels = pvt.index.get_level_values(\"grade\")\n",
    "column_labels = pvt.columns.get_level_values(\"purpose\")\n",
    "\n",
    "# Create the heatmap trace\n",
    "heatmap = go.Heatmap(\n",
    "    x=column_labels,\n",
    "    y=row_labels,\n",
    "    z=pvt.values,\n",
    "    colorscale='Blues'  \n",
    ")\n",
    "layout = go.Layout(\n",
    "    title=\"Spread of Charged Off Loans for Various Grades Over Loan Purpose\",\n",
    "    xaxis=dict(title=\"Purpose\"),\n",
    "    yaxis=dict(title='Percentage of Charged Off Loans for Various Grades', categoryorder='category ascending')\n",
    ")\n",
    "fig = go.Figure(data=[heatmap], layout=layout)\n",
    "fig.show()\n",
    "                 "
   ]
  },
  {
   "cell_type": "markdown",
   "id": "f87a3447",
   "metadata": {},
   "source": [
    "### Insight:\n",
    "- This is similar to interest rate, at higher grades, charge off is more."
   ]
  },
  {
   "cell_type": "markdown",
   "id": "fe54cd84",
   "metadata": {},
   "source": [
    "# 6. Multivariate Analysis"
   ]
  },
  {
   "cell_type": "code",
   "execution_count": null,
   "id": "3af40764",
   "metadata": {},
   "outputs": [],
   "source": [
    "loan_an = loan_npaid[loan_npaid.annual_inc < 140000]\n",
    "sns.pairplot(loan_an[['loan_amnt','term','int_rate','dti','annual_inc']])\n",
    "plt.show()"
   ]
  },
  {
   "cell_type": "markdown",
   "id": "606928cc",
   "metadata": {},
   "source": [
    "# Recommendation:\n",
    "- Larger loan amounts (> 15000) for 60-month term across high risk grades (D to G) must be given with the caution.\n",
    "- In general, small business loans are charging of at a high rate - these loans have to be given out with caution considering these additional variables -  Loan amount taken between 10k to 35k, for 60 month term with interest rate > 9%.\n",
    "- Higher loan amounts (>20k) having higher dti (>16) have to be given out with caution.\n",
    "- Educational and housing loans taken at 60 month term with interest rate >15% have to be given out with caution.\n",
    "- People with annual income between 20k to 60k taking loans more than 15k at higher interest rates (>17%) tend to have higher dti (>10 - these are high risk loans) have to be considered with caution.\n",
    "- High risk loans with grades E,F,G charge off more than 30% and have to be given out with caution.\n",
    "- Loans given out in NV state have to be considered with caution.\n",
    "- Although we do not have sufficient data on borrowers with previous record of bankruptcies, from the available dataset, it can be seen that people with previous record of bankruptcies tend to default again. These loans have to be given with less priority."
   ]
  },
  {
   "cell_type": "code",
   "execution_count": null,
   "id": "f95b9c10",
   "metadata": {},
   "outputs": [],
   "source": []
  }
 ],
 "metadata": {
  "kernelspec": {
   "display_name": "Python 3 (ipykernel)",
   "language": "python",
   "name": "python3"
  },
  "language_info": {
   "codemirror_mode": {
    "name": "ipython",
    "version": 3
   },
   "file_extension": ".py",
   "mimetype": "text/x-python",
   "name": "python",
   "nbconvert_exporter": "python",
   "pygments_lexer": "ipython3",
   "version": "3.10.9"
  }
 },
 "nbformat": 4,
 "nbformat_minor": 5
}
